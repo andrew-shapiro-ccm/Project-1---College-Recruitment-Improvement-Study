{
 "cells": [
  {
   "cell_type": "markdown",
   "metadata": {},
   "source": [
    "#### Name: Andrew Shapiro\n",
    "#### Date: 10/16/2024\n",
    "#### Exercise: Project #1, Part 3: Data Analysis and Visualization\n",
    "#### Description: This notebook will read in the cleaned Fall 2024 Non-Majors survey data and perform analysis to answer 4 data science questions to help the chairperson of CCM's Department of Information Technologies."
   ]
  },
  {
   "cell_type": "code",
   "execution_count": 484,
   "metadata": {},
   "outputs": [],
   "source": [
    "import pandas as pd"
   ]
  },
  {
   "cell_type": "code",
   "execution_count": 485,
   "metadata": {},
   "outputs": [],
   "source": [
    "%matplotlib inline\n",
    "import matplotlib.pyplot as plt"
   ]
  },
  {
   "cell_type": "code",
   "execution_count": 486,
   "metadata": {},
   "outputs": [],
   "source": [
    "import numpy as np"
   ]
  },
  {
   "cell_type": "code",
   "execution_count": 487,
   "metadata": {},
   "outputs": [],
   "source": [
    "import seaborn as sns"
   ]
  },
  {
   "cell_type": "markdown",
   "metadata": {},
   "source": [
    "## Import the cleaned data from Assignment #2.\n",
    "For the previous assignment, I have selected the **Fall 2024** dataset of the **Non-Majors Survey Results**. \n",
    "* The cleaned .csv file is called `CleanedFall2024.csv`."
   ]
  },
  {
   "cell_type": "code",
   "execution_count": 488,
   "metadata": {},
   "outputs": [],
   "source": [
    "# Read the dataset into the pandas data frame.\n",
    "df = pd.read_csv('CleanedFall2024.csv')"
   ]
  },
  {
   "cell_type": "markdown",
   "metadata": {},
   "source": [
    "### **(1) Instructor Q.** Which computing areas had the highest interest for those students interested in taking more computing classes?\n",
    "* For this question, I will need to check out which computing areas had the highest interest for students who are interested in taking more computing classes.\n",
    "* Since I need to reference parts of the data that involve computing area interest, I will need to use all of the columns that had the `interest` tag I added in Part 2 of this Project. \n",
    "* I will also need to use the `more_courses` column as that will be how we figure out which students are interested in taking more computing classes."
   ]
  },
  {
   "cell_type": "code",
   "execution_count": 489,
   "metadata": {},
   "outputs": [
    {
     "data": {
      "text/plain": [
       "Index(['interest_web_development', 'interest_cybersecurity',\n",
       "       'interest_app_development', 'interest_data_analytics', 'interest_ml_ai',\n",
       "       'interest_computer_programming', 'interest_game_design',\n",
       "       'interest_hardware_repair'],\n",
       "      dtype='object')"
      ]
     },
     "execution_count": 489,
     "metadata": {},
     "output_type": "execute_result"
    }
   ],
   "source": [
    "# Filter to be the columns that had the interest tag, as those contain the data related to student interest.\n",
    "columns = df.filter(like='interest').columns\n",
    "columns"
   ]
  },
  {
   "cell_type": "markdown",
   "metadata": {},
   "source": [
    "Looking at the output, there are 8 different computing areas that are in the data. We will be plotting those 8 data columns and showing the corresponding count of students who are interested in that computing area.\n",
    "\n",
    "For the next part of the data, we will need to go ahead and go filter through the `more_courses` column and return the rows that were interested in taking more computing classes. For this analysis, I have made it so that people who put a 3, 4, or 5 are part of this analysis. I will analyze 4s and 5s later to see if there is a difference!\n",
    "\n",
    "I also got rid of the other columns that I didn't need for this data analysis."
   ]
  },
  {
   "cell_type": "code",
   "execution_count": 490,
   "metadata": {},
   "outputs": [
    {
     "data": {
      "text/html": [
       "<div>\n",
       "<style scoped>\n",
       "    .dataframe tbody tr th:only-of-type {\n",
       "        vertical-align: middle;\n",
       "    }\n",
       "\n",
       "    .dataframe tbody tr th {\n",
       "        vertical-align: top;\n",
       "    }\n",
       "\n",
       "    .dataframe thead th {\n",
       "        text-align: right;\n",
       "    }\n",
       "</style>\n",
       "<table border=\"1\" class=\"dataframe\">\n",
       "  <thead>\n",
       "    <tr style=\"text-align: right;\">\n",
       "      <th></th>\n",
       "      <th>interest_web_development</th>\n",
       "      <th>interest_cybersecurity</th>\n",
       "      <th>interest_app_development</th>\n",
       "      <th>interest_data_analytics</th>\n",
       "      <th>interest_ml_ai</th>\n",
       "      <th>interest_computer_programming</th>\n",
       "      <th>interest_game_design</th>\n",
       "      <th>interest_hardware_repair</th>\n",
       "      <th>more_courses</th>\n",
       "    </tr>\n",
       "  </thead>\n",
       "  <tbody>\n",
       "    <tr>\n",
       "      <th>1</th>\n",
       "      <td>No</td>\n",
       "      <td>Yes</td>\n",
       "      <td>Yes</td>\n",
       "      <td>Yes</td>\n",
       "      <td>Yes</td>\n",
       "      <td>Yes</td>\n",
       "      <td>No</td>\n",
       "      <td>No</td>\n",
       "      <td>3</td>\n",
       "    </tr>\n",
       "    <tr>\n",
       "      <th>2</th>\n",
       "      <td>Yes</td>\n",
       "      <td>No</td>\n",
       "      <td>Yes</td>\n",
       "      <td>No</td>\n",
       "      <td>Yes</td>\n",
       "      <td>Yes</td>\n",
       "      <td>Yes</td>\n",
       "      <td>Yes</td>\n",
       "      <td>5</td>\n",
       "    </tr>\n",
       "    <tr>\n",
       "      <th>3</th>\n",
       "      <td>No</td>\n",
       "      <td>No</td>\n",
       "      <td>No</td>\n",
       "      <td>Yes</td>\n",
       "      <td>No</td>\n",
       "      <td>No</td>\n",
       "      <td>Yes</td>\n",
       "      <td>No</td>\n",
       "      <td>3</td>\n",
       "    </tr>\n",
       "    <tr>\n",
       "      <th>4</th>\n",
       "      <td>No</td>\n",
       "      <td>No</td>\n",
       "      <td>No</td>\n",
       "      <td>No</td>\n",
       "      <td>No</td>\n",
       "      <td>No</td>\n",
       "      <td>No</td>\n",
       "      <td>No</td>\n",
       "      <td>3</td>\n",
       "    </tr>\n",
       "    <tr>\n",
       "      <th>5</th>\n",
       "      <td>Yes</td>\n",
       "      <td>No</td>\n",
       "      <td>Yes</td>\n",
       "      <td>No</td>\n",
       "      <td>No</td>\n",
       "      <td>No</td>\n",
       "      <td>Yes</td>\n",
       "      <td>No</td>\n",
       "      <td>3</td>\n",
       "    </tr>\n",
       "    <tr>\n",
       "      <th>6</th>\n",
       "      <td>No</td>\n",
       "      <td>No</td>\n",
       "      <td>No</td>\n",
       "      <td>No</td>\n",
       "      <td>No</td>\n",
       "      <td>No</td>\n",
       "      <td>Yes</td>\n",
       "      <td>No</td>\n",
       "      <td>3</td>\n",
       "    </tr>\n",
       "    <tr>\n",
       "      <th>7</th>\n",
       "      <td>No</td>\n",
       "      <td>No</td>\n",
       "      <td>No</td>\n",
       "      <td>No</td>\n",
       "      <td>No</td>\n",
       "      <td>No</td>\n",
       "      <td>No</td>\n",
       "      <td>No</td>\n",
       "      <td>3</td>\n",
       "    </tr>\n",
       "    <tr>\n",
       "      <th>18</th>\n",
       "      <td>Yes</td>\n",
       "      <td>No</td>\n",
       "      <td>Yes</td>\n",
       "      <td>No</td>\n",
       "      <td>Yes</td>\n",
       "      <td>Yes</td>\n",
       "      <td>Yes</td>\n",
       "      <td>Yes</td>\n",
       "      <td>4</td>\n",
       "    </tr>\n",
       "    <tr>\n",
       "      <th>20</th>\n",
       "      <td>No</td>\n",
       "      <td>No</td>\n",
       "      <td>No</td>\n",
       "      <td>No</td>\n",
       "      <td>No</td>\n",
       "      <td>No</td>\n",
       "      <td>No</td>\n",
       "      <td>No</td>\n",
       "      <td>3</td>\n",
       "    </tr>\n",
       "    <tr>\n",
       "      <th>23</th>\n",
       "      <td>No</td>\n",
       "      <td>Yes</td>\n",
       "      <td>No</td>\n",
       "      <td>No</td>\n",
       "      <td>No</td>\n",
       "      <td>No</td>\n",
       "      <td>No</td>\n",
       "      <td>No</td>\n",
       "      <td>3</td>\n",
       "    </tr>\n",
       "    <tr>\n",
       "      <th>24</th>\n",
       "      <td>Yes</td>\n",
       "      <td>Yes</td>\n",
       "      <td>No</td>\n",
       "      <td>Yes</td>\n",
       "      <td>No</td>\n",
       "      <td>Yes</td>\n",
       "      <td>No</td>\n",
       "      <td>Yes</td>\n",
       "      <td>5</td>\n",
       "    </tr>\n",
       "    <tr>\n",
       "      <th>28</th>\n",
       "      <td>Yes</td>\n",
       "      <td>Yes</td>\n",
       "      <td>Yes</td>\n",
       "      <td>No</td>\n",
       "      <td>Yes</td>\n",
       "      <td>Yes</td>\n",
       "      <td>Yes</td>\n",
       "      <td>Yes</td>\n",
       "      <td>3</td>\n",
       "    </tr>\n",
       "    <tr>\n",
       "      <th>31</th>\n",
       "      <td>No</td>\n",
       "      <td>Yes</td>\n",
       "      <td>No</td>\n",
       "      <td>Yes</td>\n",
       "      <td>No</td>\n",
       "      <td>No</td>\n",
       "      <td>Yes</td>\n",
       "      <td>No</td>\n",
       "      <td>4</td>\n",
       "    </tr>\n",
       "    <tr>\n",
       "      <th>33</th>\n",
       "      <td>No</td>\n",
       "      <td>Yes</td>\n",
       "      <td>No</td>\n",
       "      <td>Yes</td>\n",
       "      <td>No</td>\n",
       "      <td>No</td>\n",
       "      <td>No</td>\n",
       "      <td>Yes</td>\n",
       "      <td>3</td>\n",
       "    </tr>\n",
       "    <tr>\n",
       "      <th>36</th>\n",
       "      <td>Yes</td>\n",
       "      <td>No</td>\n",
       "      <td>Yes</td>\n",
       "      <td>No</td>\n",
       "      <td>No</td>\n",
       "      <td>No</td>\n",
       "      <td>No</td>\n",
       "      <td>No</td>\n",
       "      <td>3</td>\n",
       "    </tr>\n",
       "    <tr>\n",
       "      <th>38</th>\n",
       "      <td>No</td>\n",
       "      <td>Yes</td>\n",
       "      <td>No</td>\n",
       "      <td>No</td>\n",
       "      <td>No</td>\n",
       "      <td>No</td>\n",
       "      <td>No</td>\n",
       "      <td>No</td>\n",
       "      <td>3</td>\n",
       "    </tr>\n",
       "    <tr>\n",
       "      <th>40</th>\n",
       "      <td>Yes</td>\n",
       "      <td>No</td>\n",
       "      <td>No</td>\n",
       "      <td>No</td>\n",
       "      <td>Yes</td>\n",
       "      <td>Yes</td>\n",
       "      <td>No</td>\n",
       "      <td>No</td>\n",
       "      <td>5</td>\n",
       "    </tr>\n",
       "    <tr>\n",
       "      <th>41</th>\n",
       "      <td>No</td>\n",
       "      <td>Yes</td>\n",
       "      <td>No</td>\n",
       "      <td>No</td>\n",
       "      <td>Yes</td>\n",
       "      <td>No</td>\n",
       "      <td>Yes</td>\n",
       "      <td>No</td>\n",
       "      <td>5</td>\n",
       "    </tr>\n",
       "    <tr>\n",
       "      <th>44</th>\n",
       "      <td>Yes</td>\n",
       "      <td>Yes</td>\n",
       "      <td>Yes</td>\n",
       "      <td>Yes</td>\n",
       "      <td>Yes</td>\n",
       "      <td>Yes</td>\n",
       "      <td>Yes</td>\n",
       "      <td>Yes</td>\n",
       "      <td>5</td>\n",
       "    </tr>\n",
       "    <tr>\n",
       "      <th>45</th>\n",
       "      <td>Yes</td>\n",
       "      <td>No</td>\n",
       "      <td>Yes</td>\n",
       "      <td>Yes</td>\n",
       "      <td>Yes</td>\n",
       "      <td>Yes</td>\n",
       "      <td>No</td>\n",
       "      <td>No</td>\n",
       "      <td>3</td>\n",
       "    </tr>\n",
       "    <tr>\n",
       "      <th>46</th>\n",
       "      <td>No</td>\n",
       "      <td>No</td>\n",
       "      <td>No</td>\n",
       "      <td>No</td>\n",
       "      <td>No</td>\n",
       "      <td>No</td>\n",
       "      <td>No</td>\n",
       "      <td>No</td>\n",
       "      <td>3</td>\n",
       "    </tr>\n",
       "    <tr>\n",
       "      <th>47</th>\n",
       "      <td>No</td>\n",
       "      <td>Yes</td>\n",
       "      <td>Yes</td>\n",
       "      <td>No</td>\n",
       "      <td>No</td>\n",
       "      <td>No</td>\n",
       "      <td>Yes</td>\n",
       "      <td>No</td>\n",
       "      <td>3</td>\n",
       "    </tr>\n",
       "    <tr>\n",
       "      <th>48</th>\n",
       "      <td>No</td>\n",
       "      <td>No</td>\n",
       "      <td>No</td>\n",
       "      <td>No</td>\n",
       "      <td>Yes</td>\n",
       "      <td>No</td>\n",
       "      <td>Yes</td>\n",
       "      <td>No</td>\n",
       "      <td>4</td>\n",
       "    </tr>\n",
       "    <tr>\n",
       "      <th>50</th>\n",
       "      <td>Yes</td>\n",
       "      <td>Yes</td>\n",
       "      <td>Yes</td>\n",
       "      <td>Yes</td>\n",
       "      <td>Yes</td>\n",
       "      <td>Yes</td>\n",
       "      <td>Yes</td>\n",
       "      <td>Yes</td>\n",
       "      <td>4</td>\n",
       "    </tr>\n",
       "    <tr>\n",
       "      <th>51</th>\n",
       "      <td>No</td>\n",
       "      <td>Yes</td>\n",
       "      <td>No</td>\n",
       "      <td>Yes</td>\n",
       "      <td>Yes</td>\n",
       "      <td>Yes</td>\n",
       "      <td>Yes</td>\n",
       "      <td>Yes</td>\n",
       "      <td>5</td>\n",
       "    </tr>\n",
       "    <tr>\n",
       "      <th>52</th>\n",
       "      <td>No</td>\n",
       "      <td>Yes</td>\n",
       "      <td>Yes</td>\n",
       "      <td>No</td>\n",
       "      <td>No</td>\n",
       "      <td>Yes</td>\n",
       "      <td>Yes</td>\n",
       "      <td>Yes</td>\n",
       "      <td>3</td>\n",
       "    </tr>\n",
       "    <tr>\n",
       "      <th>53</th>\n",
       "      <td>No</td>\n",
       "      <td>No</td>\n",
       "      <td>No</td>\n",
       "      <td>No</td>\n",
       "      <td>No</td>\n",
       "      <td>No</td>\n",
       "      <td>No</td>\n",
       "      <td>No</td>\n",
       "      <td>3</td>\n",
       "    </tr>\n",
       "    <tr>\n",
       "      <th>56</th>\n",
       "      <td>No</td>\n",
       "      <td>No</td>\n",
       "      <td>Yes</td>\n",
       "      <td>No</td>\n",
       "      <td>Yes</td>\n",
       "      <td>No</td>\n",
       "      <td>Yes</td>\n",
       "      <td>No</td>\n",
       "      <td>3</td>\n",
       "    </tr>\n",
       "    <tr>\n",
       "      <th>57</th>\n",
       "      <td>No</td>\n",
       "      <td>Yes</td>\n",
       "      <td>Yes</td>\n",
       "      <td>Yes</td>\n",
       "      <td>Yes</td>\n",
       "      <td>Yes</td>\n",
       "      <td>Yes</td>\n",
       "      <td>Yes</td>\n",
       "      <td>4</td>\n",
       "    </tr>\n",
       "    <tr>\n",
       "      <th>58</th>\n",
       "      <td>No</td>\n",
       "      <td>Yes</td>\n",
       "      <td>Yes</td>\n",
       "      <td>No</td>\n",
       "      <td>Yes</td>\n",
       "      <td>Yes</td>\n",
       "      <td>Yes</td>\n",
       "      <td>No</td>\n",
       "      <td>3</td>\n",
       "    </tr>\n",
       "    <tr>\n",
       "      <th>60</th>\n",
       "      <td>Yes</td>\n",
       "      <td>Yes</td>\n",
       "      <td>Yes</td>\n",
       "      <td>Yes</td>\n",
       "      <td>Yes</td>\n",
       "      <td>Yes</td>\n",
       "      <td>No</td>\n",
       "      <td>No</td>\n",
       "      <td>3</td>\n",
       "    </tr>\n",
       "    <tr>\n",
       "      <th>64</th>\n",
       "      <td>No</td>\n",
       "      <td>Yes</td>\n",
       "      <td>No</td>\n",
       "      <td>Yes</td>\n",
       "      <td>Yes</td>\n",
       "      <td>No</td>\n",
       "      <td>Yes</td>\n",
       "      <td>Yes</td>\n",
       "      <td>3</td>\n",
       "    </tr>\n",
       "    <tr>\n",
       "      <th>66</th>\n",
       "      <td>No</td>\n",
       "      <td>No</td>\n",
       "      <td>Yes</td>\n",
       "      <td>No</td>\n",
       "      <td>No</td>\n",
       "      <td>No</td>\n",
       "      <td>Yes</td>\n",
       "      <td>No</td>\n",
       "      <td>3</td>\n",
       "    </tr>\n",
       "    <tr>\n",
       "      <th>67</th>\n",
       "      <td>No</td>\n",
       "      <td>No</td>\n",
       "      <td>No</td>\n",
       "      <td>Yes</td>\n",
       "      <td>No</td>\n",
       "      <td>Yes</td>\n",
       "      <td>No</td>\n",
       "      <td>Yes</td>\n",
       "      <td>3</td>\n",
       "    </tr>\n",
       "    <tr>\n",
       "      <th>68</th>\n",
       "      <td>No</td>\n",
       "      <td>Yes</td>\n",
       "      <td>Yes</td>\n",
       "      <td>No</td>\n",
       "      <td>Yes</td>\n",
       "      <td>Yes</td>\n",
       "      <td>Yes</td>\n",
       "      <td>No</td>\n",
       "      <td>3</td>\n",
       "    </tr>\n",
       "    <tr>\n",
       "      <th>73</th>\n",
       "      <td>Yes</td>\n",
       "      <td>Yes</td>\n",
       "      <td>No</td>\n",
       "      <td>No</td>\n",
       "      <td>Yes</td>\n",
       "      <td>No</td>\n",
       "      <td>No</td>\n",
       "      <td>Yes</td>\n",
       "      <td>3</td>\n",
       "    </tr>\n",
       "    <tr>\n",
       "      <th>75</th>\n",
       "      <td>No</td>\n",
       "      <td>No</td>\n",
       "      <td>No</td>\n",
       "      <td>No</td>\n",
       "      <td>No</td>\n",
       "      <td>No</td>\n",
       "      <td>No</td>\n",
       "      <td>No</td>\n",
       "      <td>3</td>\n",
       "    </tr>\n",
       "    <tr>\n",
       "      <th>76</th>\n",
       "      <td>Yes</td>\n",
       "      <td>No</td>\n",
       "      <td>No</td>\n",
       "      <td>No</td>\n",
       "      <td>No</td>\n",
       "      <td>No</td>\n",
       "      <td>No</td>\n",
       "      <td>Yes</td>\n",
       "      <td>3</td>\n",
       "    </tr>\n",
       "    <tr>\n",
       "      <th>77</th>\n",
       "      <td>No</td>\n",
       "      <td>No</td>\n",
       "      <td>No</td>\n",
       "      <td>No</td>\n",
       "      <td>No</td>\n",
       "      <td>No</td>\n",
       "      <td>No</td>\n",
       "      <td>Yes</td>\n",
       "      <td>3</td>\n",
       "    </tr>\n",
       "    <tr>\n",
       "      <th>78</th>\n",
       "      <td>No</td>\n",
       "      <td>Yes</td>\n",
       "      <td>No</td>\n",
       "      <td>No</td>\n",
       "      <td>No</td>\n",
       "      <td>No</td>\n",
       "      <td>No</td>\n",
       "      <td>No</td>\n",
       "      <td>3</td>\n",
       "    </tr>\n",
       "    <tr>\n",
       "      <th>79</th>\n",
       "      <td>Yes</td>\n",
       "      <td>Yes</td>\n",
       "      <td>Yes</td>\n",
       "      <td>No</td>\n",
       "      <td>Yes</td>\n",
       "      <td>No</td>\n",
       "      <td>No</td>\n",
       "      <td>No</td>\n",
       "      <td>4</td>\n",
       "    </tr>\n",
       "    <tr>\n",
       "      <th>82</th>\n",
       "      <td>No</td>\n",
       "      <td>Yes</td>\n",
       "      <td>No</td>\n",
       "      <td>No</td>\n",
       "      <td>No</td>\n",
       "      <td>No</td>\n",
       "      <td>Yes</td>\n",
       "      <td>Yes</td>\n",
       "      <td>3</td>\n",
       "    </tr>\n",
       "    <tr>\n",
       "      <th>85</th>\n",
       "      <td>No</td>\n",
       "      <td>Yes</td>\n",
       "      <td>No</td>\n",
       "      <td>Yes</td>\n",
       "      <td>Yes</td>\n",
       "      <td>No</td>\n",
       "      <td>No</td>\n",
       "      <td>No</td>\n",
       "      <td>3</td>\n",
       "    </tr>\n",
       "    <tr>\n",
       "      <th>86</th>\n",
       "      <td>Yes</td>\n",
       "      <td>Yes</td>\n",
       "      <td>Yes</td>\n",
       "      <td>Yes</td>\n",
       "      <td>Yes</td>\n",
       "      <td>Yes</td>\n",
       "      <td>No</td>\n",
       "      <td>Yes</td>\n",
       "      <td>5</td>\n",
       "    </tr>\n",
       "    <tr>\n",
       "      <th>87</th>\n",
       "      <td>No</td>\n",
       "      <td>Yes</td>\n",
       "      <td>No</td>\n",
       "      <td>No</td>\n",
       "      <td>No</td>\n",
       "      <td>Yes</td>\n",
       "      <td>Yes</td>\n",
       "      <td>No</td>\n",
       "      <td>3</td>\n",
       "    </tr>\n",
       "    <tr>\n",
       "      <th>88</th>\n",
       "      <td>Yes</td>\n",
       "      <td>Yes</td>\n",
       "      <td>Yes</td>\n",
       "      <td>No</td>\n",
       "      <td>No</td>\n",
       "      <td>No</td>\n",
       "      <td>No</td>\n",
       "      <td>No</td>\n",
       "      <td>3</td>\n",
       "    </tr>\n",
       "    <tr>\n",
       "      <th>90</th>\n",
       "      <td>No</td>\n",
       "      <td>No</td>\n",
       "      <td>No</td>\n",
       "      <td>No</td>\n",
       "      <td>No</td>\n",
       "      <td>No</td>\n",
       "      <td>No</td>\n",
       "      <td>No</td>\n",
       "      <td>3</td>\n",
       "    </tr>\n",
       "    <tr>\n",
       "      <th>91</th>\n",
       "      <td>No</td>\n",
       "      <td>No</td>\n",
       "      <td>No</td>\n",
       "      <td>No</td>\n",
       "      <td>Yes</td>\n",
       "      <td>No</td>\n",
       "      <td>No</td>\n",
       "      <td>Yes</td>\n",
       "      <td>5</td>\n",
       "    </tr>\n",
       "  </tbody>\n",
       "</table>\n",
       "</div>"
      ],
      "text/plain": [
       "   interest_web_development interest_cybersecurity interest_app_development  \\\n",
       "1                        No                    Yes                      Yes   \n",
       "2                       Yes                     No                      Yes   \n",
       "3                        No                     No                       No   \n",
       "4                        No                     No                       No   \n",
       "5                       Yes                     No                      Yes   \n",
       "6                        No                     No                       No   \n",
       "7                        No                     No                       No   \n",
       "18                      Yes                     No                      Yes   \n",
       "20                       No                     No                       No   \n",
       "23                       No                    Yes                       No   \n",
       "24                      Yes                    Yes                       No   \n",
       "28                      Yes                    Yes                      Yes   \n",
       "31                       No                    Yes                       No   \n",
       "33                       No                    Yes                       No   \n",
       "36                      Yes                     No                      Yes   \n",
       "38                       No                    Yes                       No   \n",
       "40                      Yes                     No                       No   \n",
       "41                       No                    Yes                       No   \n",
       "44                      Yes                    Yes                      Yes   \n",
       "45                      Yes                     No                      Yes   \n",
       "46                       No                     No                       No   \n",
       "47                       No                    Yes                      Yes   \n",
       "48                       No                     No                       No   \n",
       "50                      Yes                    Yes                      Yes   \n",
       "51                       No                    Yes                       No   \n",
       "52                       No                    Yes                      Yes   \n",
       "53                       No                     No                       No   \n",
       "56                       No                     No                      Yes   \n",
       "57                       No                    Yes                      Yes   \n",
       "58                       No                    Yes                      Yes   \n",
       "60                      Yes                    Yes                      Yes   \n",
       "64                       No                    Yes                       No   \n",
       "66                       No                     No                      Yes   \n",
       "67                       No                     No                       No   \n",
       "68                       No                    Yes                      Yes   \n",
       "73                      Yes                    Yes                       No   \n",
       "75                       No                     No                       No   \n",
       "76                      Yes                     No                       No   \n",
       "77                       No                     No                       No   \n",
       "78                       No                    Yes                       No   \n",
       "79                      Yes                    Yes                      Yes   \n",
       "82                       No                    Yes                       No   \n",
       "85                       No                    Yes                       No   \n",
       "86                      Yes                    Yes                      Yes   \n",
       "87                       No                    Yes                       No   \n",
       "88                      Yes                    Yes                      Yes   \n",
       "90                       No                     No                       No   \n",
       "91                       No                     No                       No   \n",
       "\n",
       "   interest_data_analytics interest_ml_ai interest_computer_programming  \\\n",
       "1                      Yes            Yes                           Yes   \n",
       "2                       No            Yes                           Yes   \n",
       "3                      Yes             No                            No   \n",
       "4                       No             No                            No   \n",
       "5                       No             No                            No   \n",
       "6                       No             No                            No   \n",
       "7                       No             No                            No   \n",
       "18                      No            Yes                           Yes   \n",
       "20                      No             No                            No   \n",
       "23                      No             No                            No   \n",
       "24                     Yes             No                           Yes   \n",
       "28                      No            Yes                           Yes   \n",
       "31                     Yes             No                            No   \n",
       "33                     Yes             No                            No   \n",
       "36                      No             No                            No   \n",
       "38                      No             No                            No   \n",
       "40                      No            Yes                           Yes   \n",
       "41                      No            Yes                            No   \n",
       "44                     Yes            Yes                           Yes   \n",
       "45                     Yes            Yes                           Yes   \n",
       "46                      No             No                            No   \n",
       "47                      No             No                            No   \n",
       "48                      No            Yes                            No   \n",
       "50                     Yes            Yes                           Yes   \n",
       "51                     Yes            Yes                           Yes   \n",
       "52                      No             No                           Yes   \n",
       "53                      No             No                            No   \n",
       "56                      No            Yes                            No   \n",
       "57                     Yes            Yes                           Yes   \n",
       "58                      No            Yes                           Yes   \n",
       "60                     Yes            Yes                           Yes   \n",
       "64                     Yes            Yes                            No   \n",
       "66                      No             No                            No   \n",
       "67                     Yes             No                           Yes   \n",
       "68                      No            Yes                           Yes   \n",
       "73                      No            Yes                            No   \n",
       "75                      No             No                            No   \n",
       "76                      No             No                            No   \n",
       "77                      No             No                            No   \n",
       "78                      No             No                            No   \n",
       "79                      No            Yes                            No   \n",
       "82                      No             No                            No   \n",
       "85                     Yes            Yes                            No   \n",
       "86                     Yes            Yes                           Yes   \n",
       "87                      No             No                           Yes   \n",
       "88                      No             No                            No   \n",
       "90                      No             No                            No   \n",
       "91                      No            Yes                            No   \n",
       "\n",
       "   interest_game_design interest_hardware_repair  more_courses  \n",
       "1                    No                       No             3  \n",
       "2                   Yes                      Yes             5  \n",
       "3                   Yes                       No             3  \n",
       "4                    No                       No             3  \n",
       "5                   Yes                       No             3  \n",
       "6                   Yes                       No             3  \n",
       "7                    No                       No             3  \n",
       "18                  Yes                      Yes             4  \n",
       "20                   No                       No             3  \n",
       "23                   No                       No             3  \n",
       "24                   No                      Yes             5  \n",
       "28                  Yes                      Yes             3  \n",
       "31                  Yes                       No             4  \n",
       "33                   No                      Yes             3  \n",
       "36                   No                       No             3  \n",
       "38                   No                       No             3  \n",
       "40                   No                       No             5  \n",
       "41                  Yes                       No             5  \n",
       "44                  Yes                      Yes             5  \n",
       "45                   No                       No             3  \n",
       "46                   No                       No             3  \n",
       "47                  Yes                       No             3  \n",
       "48                  Yes                       No             4  \n",
       "50                  Yes                      Yes             4  \n",
       "51                  Yes                      Yes             5  \n",
       "52                  Yes                      Yes             3  \n",
       "53                   No                       No             3  \n",
       "56                  Yes                       No             3  \n",
       "57                  Yes                      Yes             4  \n",
       "58                  Yes                       No             3  \n",
       "60                   No                       No             3  \n",
       "64                  Yes                      Yes             3  \n",
       "66                  Yes                       No             3  \n",
       "67                   No                      Yes             3  \n",
       "68                  Yes                       No             3  \n",
       "73                   No                      Yes             3  \n",
       "75                   No                       No             3  \n",
       "76                   No                      Yes             3  \n",
       "77                   No                      Yes             3  \n",
       "78                   No                       No             3  \n",
       "79                   No                       No             4  \n",
       "82                  Yes                      Yes             3  \n",
       "85                   No                       No             3  \n",
       "86                   No                      Yes             5  \n",
       "87                  Yes                       No             3  \n",
       "88                   No                       No             3  \n",
       "90                   No                       No             3  \n",
       "91                   No                      Yes             5  "
      ]
     },
     "execution_count": 490,
     "metadata": {},
     "output_type": "execute_result"
    }
   ],
   "source": [
    "# The .loc() function allows us to return columns that fit a filter. \n",
    "# I checked if 3, 4, or 5 are in each row and returned a new dataframe that contains only those rows!\n",
    "interested_more_courses = df.loc[df['more_courses'].isin([3, 4, 5])]\n",
    "\n",
    "# Get rid of columns that are not needed.\n",
    "interested_more_courses = interested_more_courses[list(columns) + ['more_courses',]]\n",
    "\n",
    "interested_more_courses"
   ]
  },
  {
   "cell_type": "code",
   "execution_count": 491,
   "metadata": {},
   "outputs": [
    {
     "data": {
      "text/plain": [
       "(48, 9)"
      ]
     },
     "execution_count": 491,
     "metadata": {},
     "output_type": "execute_result"
    }
   ],
   "source": [
    "# Finding out the new size of the data frame.\n",
    "interested_more_courses.shape"
   ]
  },
  {
   "cell_type": "markdown",
   "metadata": {},
   "source": [
    "We created a new dataframe with people who are interested in more computing classes. This has now shortened our data table to be from 92 total entries to be 48 entries. These 48 entries are all students who have selected 3, 4, or 5 as being interested in more computing classes. We have also removed all columns but the `interest_` and the `more_courses` one.\n",
    "\n",
    "Now, we need to go through each of the 8 computing areas and count how many are interested in each computing area. I did this by going through the 8 columns that we stored in a list called `columns` and counting how many 'Yes's are present in each column. Then, I appended this value to a new list `count` which will store the count of people interested in each computing area."
   ]
  },
  {
   "cell_type": "code",
   "execution_count": 492,
   "metadata": {},
   "outputs": [
    {
     "data": {
      "text/plain": [
       "[np.int64(16),\n",
       " np.int64(26),\n",
       " np.int64(20),\n",
       " np.int64(15),\n",
       " np.int64(22),\n",
       " np.int64(18),\n",
       " np.int64(22),\n",
       " np.int64(18)]"
      ]
     },
     "execution_count": 492,
     "metadata": {},
     "output_type": "execute_result"
    }
   ],
   "source": [
    "# This empty list 'count' will store the count of people interested in each computing area.\n",
    "count = []\n",
    "\n",
    "# Going through each column and counting how many people put 'Yes' and appending it to count.\n",
    "for c in columns:\n",
    "    count.append((interested_more_courses[c] == 'Yes').sum())\n",
    "\n",
    "count"
   ]
  },
  {
   "cell_type": "markdown",
   "metadata": {},
   "source": [
    "We now have a list of numbers that show how many people are interested in each computing area. This list was made with the dataframe of students who put 3, 4, or 5 as their interest in taking more computing classes.\n",
    "\n",
    "To keep the column names cleaner and easier to read when graphing, I have went ahead and used the string .replace() function to delete the 'interest_' tag that were in front of the columns that we needed to reference."
   ]
  },
  {
   "cell_type": "code",
   "execution_count": 493,
   "metadata": {},
   "outputs": [
    {
     "data": {
      "text/plain": [
       "Index(['web_development', 'cybersecurity', 'app_development', 'data_analytics',\n",
       "       'ml_ai', 'computer_programming', 'game_design', 'hardware_repair'],\n",
       "      dtype='object')"
      ]
     },
     "execution_count": 493,
     "metadata": {},
     "output_type": "execute_result"
    }
   ],
   "source": [
    "# Replace 'interest_' with '' to delete them from each column name.\n",
    "columns = columns.str.replace('interest_', '', regex=False)\n",
    "columns"
   ]
  },
  {
   "cell_type": "markdown",
   "metadata": {},
   "source": [
    "I personally find using the names from the columns good for the chart above. However, for others, renaming each one to the full name would be better. I will now rename the columns array to make them look better."
   ]
  },
  {
   "cell_type": "code",
   "execution_count": 494,
   "metadata": {},
   "outputs": [
    {
     "data": {
      "text/plain": [
       "['Web Development',\n",
       " 'Cybersecurity',\n",
       " 'App Development',\n",
       " 'Data Analytics',\n",
       " 'Machine Learning/AI',\n",
       " 'Computer Programming',\n",
       " 'Game Design',\n",
       " 'Hardware Repair']"
      ]
     },
     "execution_count": 494,
     "metadata": {},
     "output_type": "execute_result"
    }
   ],
   "source": [
    "new_names = {\n",
    "    'web_development': 'Web Development',\n",
    "    'cybersecurity': 'Cybersecurity',\n",
    "    'app_development': 'App Development',\n",
    "    'data_analytics': 'Data Analytics',\n",
    "    'ml_ai': 'Machine Learning/AI',\n",
    "    'computer_programming': 'Computer Programming',\n",
    "    'game_design': 'Game Design',\n",
    "    'hardware_repair': 'Hardware Repair'\n",
    "}\n",
    "\n",
    "# Rename the columns with the dictionary above.\n",
    "columns = [new_names.get(c, c) for c in columns]\n",
    "columns"
   ]
  },
  {
   "cell_type": "markdown",
   "metadata": {},
   "source": [
    "When I first ran the code above and graphed it with the graphing code at the bottom, I wasn't appealed to it. I didn't like how it wasn't sorted and how everything was blue. I wanted to make it easier to see so I added a sort and color system to the graph.\n",
    "\n",
    "I used **ChatGPT** to help me out with the sorting code snippet below."
   ]
  },
  {
   "cell_type": "code",
   "execution_count": 495,
   "metadata": {},
   "outputs": [],
   "source": [
    "# Sort indexes by their argument.\n",
    "sorted_indices = np.argsort(count)\n",
    "# Sort the count data by the new sorted index array.\n",
    "sorted_count = np.array(count)[sorted_indices]\n",
    "# Sort the column name data by the new sorted index array.\n",
    "sorted_columns = np.array(columns)[sorted_indices]\n",
    "\n",
    "# OpenAI. ChatGPT. 2024. OpenAI, https://www.openai.com/chatgpt."
   ]
  },
  {
   "cell_type": "markdown",
   "metadata": {},
   "source": [
    "I was not able to find how you created the color thing in any of your slideshow materials so I used list comprehensions to make my own version. I did this by finding the highest value in the count list, then, go through the entire list and check if the value is equal to the top value I found earlier. If it is, it would make that color green in the color list and if it is not, it would make it gray.\n",
    "\n",
    "This would become the `colors` list that we will use for creating our graph to make it colorful and easier for us to see."
   ]
  },
  {
   "cell_type": "code",
   "execution_count": 496,
   "metadata": {},
   "outputs": [
    {
     "data": {
      "text/plain": [
       "['#E5E5E5',\n",
       " '#E5E5E5',\n",
       " '#E5E5E5',\n",
       " '#E5E5E5',\n",
       " '#E5E5E5',\n",
       " '#E5E5E5',\n",
       " '#E5E5E5',\n",
       " 'green']"
      ]
     },
     "execution_count": 496,
     "metadata": {},
     "output_type": "execute_result"
    }
   ],
   "source": [
    "# Find the highest count value.\n",
    "top = np.argsort(sorted_count)[-1:]\n",
    "# Form a color list with list comprehension and set each color depending on if it is equal to the highest count value.\n",
    "colors = ['green' if i in top else '#E5E5E5' for i in range(len(count))]\n",
    "\n",
    "colors"
   ]
  },
  {
   "cell_type": "markdown",
   "metadata": {},
   "source": [
    "To display the data, I used a horizontal bar chart. This is the best choice as it will display each computing area on the y axis and show the count on the x axis. I thought about doing a vertical bar graph, but I feel like it would look weird and the text labels may crowd in the bottom. This is why I did a horizontal bar chart.\n",
    "\n",
    "I used the `sorted_columns` for the column data. This is the list of columns with the `interest_` flag removed and sorted using the algorithm earlier.\n",
    "I used the `sorted_Count` for the count data. This is the list of counts that only contain those interested in computing areas (3, 4, or 5 in interested in taking more computing classes at CCM) and sorted using the algorithm earlier.\n",
    "\n",
    "I added color from the `colors` array as well. This show display the top option in green and the others in gray.\n",
    "\n",
    "I also added a title, x axis label, and y axis label to inform us on what the graph is about and which piece of data is each axis referencing."
   ]
  },
  {
   "cell_type": "code",
   "execution_count": 497,
   "metadata": {},
   "outputs": [
    {
     "data": {
      "text/plain": [
       "Text(0, 0.5, 'Computing Areas')"
      ]
     },
     "execution_count": 497,
     "metadata": {},
     "output_type": "execute_result"
    },
    {
     "data": {
      "image/png": "[encoded data removed]",
      "text/plain": [
       "<Figure size 640x480 with 1 Axes>"
      ]
     },
     "metadata": {},
     "output_type": "display_data"
    }
   ],
   "source": [
    "# Create the horizontal bar chart with the data and add the colors attribute.\n",
    "plt.barh(sorted_columns,sorted_count, color=colors)\n",
    "\n",
    "# Add a title, x-axis label, and y-axis label to inform us of what the graph is about and what pieces of data are being referenced.\n",
    "plt.title(\"Interest in Computing Areas for Students Interested in More Courses\")\n",
    "plt.xlabel(\"Count\")\n",
    "plt.ylabel(\"Computing Areas\")"
   ]
  },
  {
   "cell_type": "markdown",
   "metadata": {},
   "source": [
    "In this first data analysis, we can see that from students who stated that they were either a 3, 4, or 5 for interested in taking more computing classes, the top choice for their most interested topic was Cybersecurity, with over 25 students. Following Cybersecurity comes Game Design and Machine Learning/AI. The Department of Information Technologies could this piece of information to have more Cybersecurity, Game Design, and Machine Learning classes available for those students in future semesters. The Department of Information Technologies could also the other end of the chart: Data Analytics and Web Development, which they could possibly not have as many slots open for them. Of course, this decision would also need to be made with other things in mind, such as current class enrollment, but this could be a hint for them to start investigating into the success in those programs.\n",
    "\n",
    "However, I was not sure about how confident these results are, so I decided to run the program again but instead only do 4s & 5s, and a third time of only 5s to see if there is a trend between the most interested topics."
   ]
  },
  {
   "cell_type": "code",
   "execution_count": 498,
   "metadata": {},
   "outputs": [
    {
     "data": {
      "text/plain": [
       "Text(0, 0.5, 'Computing Areas')"
      ]
     },
     "execution_count": 498,
     "metadata": {},
     "output_type": "execute_result"
    },
    {
     "data": {
      "image/png": "[encoded data removed]",
      "text/plain": [
       "<Figure size 640x480 with 1 Axes>"
      ]
     },
     "metadata": {},
     "output_type": "display_data"
    }
   ],
   "source": [
    "# Filter to be the columns that had the interest tag, as those contain the data related to student interest.\n",
    "columns = df.filter(like='interest').columns\n",
    "\n",
    "# The .loc() function allows us to return columns that fit a filter. \n",
    "# I checked if 4 or 5 are in each row and returned a new dataframe that contains only those rows!\n",
    "interested_more_courses = df.loc[df['more_courses'].isin([4, 5])]\n",
    "\n",
    "# Get rid of columns that are not needed.\n",
    "interested_more_courses = interested_more_courses[list(columns) + ['more_courses',]]\n",
    "\n",
    "# This empty list 'count' will store the count of people interested in each computing area.\n",
    "count = []\n",
    "\n",
    "# Going through each column and counting how many people put 'Yes' and appending it to count.\n",
    "for c in columns:\n",
    "    count.append((interested_more_courses[c] == 'Yes').sum())\n",
    "\n",
    "# Replace 'interest_' with '' to delete them from each column name.\n",
    "columns = columns.str.replace('interest_', '', regex=False)\n",
    "\n",
    "new_names = {\n",
    "    'web_development': 'Web Development',\n",
    "    'cybersecurity': 'Cybersecurity',\n",
    "    'app_development': 'App Development',\n",
    "    'data_analytics': 'Data Analytics',\n",
    "    'ml_ai': 'Machine Learning/AI',\n",
    "    'computer_programming': 'Computer Programming',\n",
    "    'game_design': 'Game Design',\n",
    "    'hardware_repair': 'Hardware Repair'\n",
    "}\n",
    "\n",
    "# Rename the columns with the dictionary above.\n",
    "columns = [new_names.get(c, c) for c in columns]\n",
    "\n",
    "# Sort indexes by their argument.\n",
    "sorted_indices = np.argsort(count)\n",
    "# Sort the count data by the new sorted index array.\n",
    "sorted_count = np.array(count)[sorted_indices]\n",
    "# Sort the column name data by the new sorted index array.\n",
    "sorted_columns = np.array(columns)[sorted_indices]\n",
    "\n",
    "# OpenAI. ChatGPT. 2024. OpenAI, https://www.openai.com/chatgpt.\n",
    "\n",
    "# Find the highest count value.\n",
    "top = np.argsort(sorted_count)[-1:]\n",
    "# Form a color list with list comprehension and set each color depending on if it is equal to the highest count value.\n",
    "colors = ['green' if i in top else '#E5E5E5' for i in range(len(count))]\n",
    "\n",
    "# Create the horizontal bar chart with the data and add the colors attribute.\n",
    "plt.barh(sorted_columns,sorted_count, color=colors)\n",
    "\n",
    "# Add a title, x-axis label, and y-axis label to inform us of what the graph is about and what pieces of data are being referenced.\n",
    "plt.title(\"Interest in Computing Areas for Students Interested in More Courses\")\n",
    "plt.xlabel(\"Count\")\n",
    "plt.ylabel(\"Computing Areas\")"
   ]
  },
  {
   "cell_type": "markdown",
   "metadata": {},
   "source": [
    "With just 4s and 5s, the top end of the data is very similar, but with now Machine Learning/AI taking the lead (compared to its tied for #2 spot in the old graph) and Game Design and Cybersecurity tied for second, along with Hardware Repair and Computer Programming. At the bottom, Data Analytics is still at the bottom tied with App Development, while Web Development is 1 vote ahead of both of them.\n",
    "\n",
    "I will now do it again with only 5s."
   ]
  },
  {
   "cell_type": "code",
   "execution_count": 499,
   "metadata": {},
   "outputs": [
    {
     "data": {
      "text/plain": [
       "Text(0, 0.5, 'Computing Areas')"
      ]
     },
     "execution_count": 499,
     "metadata": {},
     "output_type": "execute_result"
    },
    {
     "data": {
      "image/png": "[encoded data removed]",
      "text/plain": [
       "<Figure size 640x480 with 1 Axes>"
      ]
     },
     "metadata": {},
     "output_type": "display_data"
    }
   ],
   "source": [
    "# Filter to be the columns that had the interest tag, as those contain the data related to student interest.\n",
    "columns = df.filter(like='interest').columns\n",
    "\n",
    "# The .loc() function allows us to return columns that fit a filter. \n",
    "# I checked if 4 or 5 are in each row and returned a new dataframe that contains only those rows!\n",
    "interested_more_courses = df.loc[df['more_courses'].isin([5,])]\n",
    "\n",
    "# Get rid of columns that are not needed.\n",
    "interested_more_courses = interested_more_courses[list(columns) + ['more_courses',]]\n",
    "\n",
    "# This empty list 'count' will store the count of people interested in each computing area.\n",
    "count = []\n",
    "\n",
    "# Going through each column and counting how many people put 'Yes' and appending it to count.\n",
    "for c in columns:\n",
    "    count.append((interested_more_courses[c] == 'Yes').sum())\n",
    "\n",
    "# Replace 'interest_' with '' to delete them from each column name.\n",
    "columns = columns.str.replace('interest_', '', regex=False)\n",
    "\n",
    "new_names = {\n",
    "    'web_development': 'Web Development',\n",
    "    'cybersecurity': 'Cybersecurity',\n",
    "    'app_development': 'App Development',\n",
    "    'data_analytics': 'Data Analytics',\n",
    "    'ml_ai': 'Machine Learning/AI',\n",
    "    'computer_programming': 'Computer Programming',\n",
    "    'game_design': 'Game Design',\n",
    "    'hardware_repair': 'Hardware Repair'\n",
    "}\n",
    "\n",
    "# Rename the columns with the dictionary above.\n",
    "columns = [new_names.get(c, c) for c in columns]\n",
    "\n",
    "# Sort indexes by their argument.\n",
    "sorted_indices = np.argsort(count)\n",
    "# Sort the count data by the new sorted index array.\n",
    "sorted_count = np.array(count)[sorted_indices]\n",
    "# Sort the column name data by the new sorted index array.\n",
    "sorted_columns = np.array(columns)[sorted_indices]\n",
    "\n",
    "# OpenAI. ChatGPT. 2024. OpenAI, https://www.openai.com/chatgpt.\n",
    "\n",
    "# Find the highest count value.\n",
    "top = np.argsort(sorted_count)[-1:]\n",
    "# Form a color list with list comprehension and set each color depending on if it is equal to the highest count value.\n",
    "colors = ['green' if i in top else '#E5E5E5' for i in range(len(count))]\n",
    "\n",
    "# Create the horizontal bar chart with the data and add the colors attribute.\n",
    "plt.barh(sorted_columns,sorted_count, color=colors)\n",
    "\n",
    "# Add a title, x-axis label, and y-axis label to inform us of what the graph is about and what pieces of data are being referenced.\n",
    "plt.title(\"Interest in Computing Areas for Students Interested in More Courses\")\n",
    "plt.xlabel(\"Count\")\n",
    "plt.ylabel(\"Computing Areas\")"
   ]
  },
  {
   "cell_type": "markdown",
   "metadata": {},
   "source": [
    "This chart surprised me as it now shows Cybersecurity and Game Design closer to the bottom, which were at the top of the chart when we had 3s, 4s, and 5s.\n",
    "\n",
    "What I learned from this analysis is that Machine Learning/AI is the top for the 4s and 5s, which indicates that they may be more interested in those types of classes. The Department can try to include those classes more and maybe innovate new classes that are directed for those interested in them. Additionally, for Cybersecurity (top of the 3s), it does not mean that there is not a lot of interest, but instead, it is something that people who are unsure if they are interested in taking more classes would be interested in. The Department could use this and try to innovate and make improves to current Cybersecurity programs to make them more interesting to get those unsure enrolled."
   ]
  },
  {
   "cell_type": "markdown",
   "metadata": {},
   "source": [
    "### **(2) Student Q.** What sources are most frequent for students to hear about CCM's Computer Science programs?\n",
    "* For this question, I will need to check out which sources people that filled out the survey heard about CCM's Computer Science programs.\n",
    "* Since I need to reference parts of the data that involve where people heard about the programs, I will need to use all of the columns that had the `heard` tag I added in Part 2 of this Project. "
   ]
  },
  {
   "cell_type": "code",
   "execution_count": 500,
   "metadata": {},
   "outputs": [
    {
     "data": {
      "text/plain": [
       "Index(['heard_ccm_website', 'heard_ccm_billboard', 'heard_ccm_tv',\n",
       "       'heard_ccm_radio', 'heard_ccm_social_media', 'heard_ccm_event',\n",
       "       'heard_ccm_family_friend', 'heard_ccm_employer',\n",
       "       'heard_ccm_current_student', 'heard_ccm_alumni', 'heard_ccm_hs'],\n",
       "      dtype='object')"
      ]
     },
     "execution_count": 500,
     "metadata": {},
     "output_type": "execute_result"
    }
   ],
   "source": [
    "# Filter to be the columns that had the heard tag, as those contain the data related to different ways CCM Students may have heard about our CCM Computer Science courses.\n",
    "columns = df.filter(like='heard').columns\n",
    "columns"
   ]
  },
  {
   "cell_type": "markdown",
   "metadata": {},
   "source": [
    "Looking at the output, there are 11 different options that CCM primarily relies on for people to hear about the programs that are in the data. We will be plotting those 11 data columns and showing the corresponding count of students who heard about the programs from there.\n",
    "\n",
    "I got rid of the other columns that I didn't need for this data analysis. This is any column that didn't have the `heard` tag. This is to make it easier for me to see the entire table as the output and only focus on the columns that matter."
   ]
  },
  {
   "cell_type": "code",
   "execution_count": 501,
   "metadata": {},
   "outputs": [
    {
     "data": {
      "text/html": [
       "<div>\n",
       "<style scoped>\n",
       "    .dataframe tbody tr th:only-of-type {\n",
       "        vertical-align: middle;\n",
       "    }\n",
       "\n",
       "    .dataframe tbody tr th {\n",
       "        vertical-align: top;\n",
       "    }\n",
       "\n",
       "    .dataframe thead th {\n",
       "        text-align: right;\n",
       "    }\n",
       "</style>\n",
       "<table border=\"1\" class=\"dataframe\">\n",
       "  <thead>\n",
       "    <tr style=\"text-align: right;\">\n",
       "      <th></th>\n",
       "      <th>heard_ccm_website</th>\n",
       "      <th>heard_ccm_billboard</th>\n",
       "      <th>heard_ccm_tv</th>\n",
       "      <th>heard_ccm_radio</th>\n",
       "      <th>heard_ccm_social_media</th>\n",
       "      <th>heard_ccm_event</th>\n",
       "      <th>heard_ccm_family_friend</th>\n",
       "      <th>heard_ccm_employer</th>\n",
       "      <th>heard_ccm_current_student</th>\n",
       "      <th>heard_ccm_alumni</th>\n",
       "      <th>heard_ccm_hs</th>\n",
       "    </tr>\n",
       "  </thead>\n",
       "  <tbody>\n",
       "    <tr>\n",
       "      <th>0</th>\n",
       "      <td>No</td>\n",
       "      <td>No</td>\n",
       "      <td>No</td>\n",
       "      <td>No</td>\n",
       "      <td>No</td>\n",
       "      <td>Yes</td>\n",
       "      <td>Yes</td>\n",
       "      <td>No</td>\n",
       "      <td>Yes</td>\n",
       "      <td>Yes</td>\n",
       "      <td>Yes</td>\n",
       "    </tr>\n",
       "    <tr>\n",
       "      <th>1</th>\n",
       "      <td>Yes</td>\n",
       "      <td>No</td>\n",
       "      <td>No</td>\n",
       "      <td>No</td>\n",
       "      <td>Yes</td>\n",
       "      <td>No</td>\n",
       "      <td>Yes</td>\n",
       "      <td>No</td>\n",
       "      <td>Yes</td>\n",
       "      <td>No</td>\n",
       "      <td>No</td>\n",
       "    </tr>\n",
       "    <tr>\n",
       "      <th>2</th>\n",
       "      <td>Yes</td>\n",
       "      <td>No</td>\n",
       "      <td>No</td>\n",
       "      <td>No</td>\n",
       "      <td>No</td>\n",
       "      <td>No</td>\n",
       "      <td>No</td>\n",
       "      <td>No</td>\n",
       "      <td>No</td>\n",
       "      <td>No</td>\n",
       "      <td>No</td>\n",
       "    </tr>\n",
       "    <tr>\n",
       "      <th>3</th>\n",
       "      <td>No</td>\n",
       "      <td>No</td>\n",
       "      <td>No</td>\n",
       "      <td>No</td>\n",
       "      <td>No</td>\n",
       "      <td>No</td>\n",
       "      <td>Yes</td>\n",
       "      <td>No</td>\n",
       "      <td>Yes</td>\n",
       "      <td>Yes</td>\n",
       "      <td>Yes</td>\n",
       "    </tr>\n",
       "    <tr>\n",
       "      <th>4</th>\n",
       "      <td>Yes</td>\n",
       "      <td>Yes</td>\n",
       "      <td>Yes</td>\n",
       "      <td>No</td>\n",
       "      <td>Yes</td>\n",
       "      <td>Yes</td>\n",
       "      <td>Yes</td>\n",
       "      <td>Yes</td>\n",
       "      <td>Yes</td>\n",
       "      <td>Yes</td>\n",
       "      <td>Yes</td>\n",
       "    </tr>\n",
       "    <tr>\n",
       "      <th>...</th>\n",
       "      <td>...</td>\n",
       "      <td>...</td>\n",
       "      <td>...</td>\n",
       "      <td>...</td>\n",
       "      <td>...</td>\n",
       "      <td>...</td>\n",
       "      <td>...</td>\n",
       "      <td>...</td>\n",
       "      <td>...</td>\n",
       "      <td>...</td>\n",
       "      <td>...</td>\n",
       "    </tr>\n",
       "    <tr>\n",
       "      <th>87</th>\n",
       "      <td>No</td>\n",
       "      <td>No</td>\n",
       "      <td>No</td>\n",
       "      <td>No</td>\n",
       "      <td>No</td>\n",
       "      <td>No</td>\n",
       "      <td>Yes</td>\n",
       "      <td>No</td>\n",
       "      <td>No</td>\n",
       "      <td>No</td>\n",
       "      <td>No</td>\n",
       "    </tr>\n",
       "    <tr>\n",
       "      <th>88</th>\n",
       "      <td>No</td>\n",
       "      <td>No</td>\n",
       "      <td>No</td>\n",
       "      <td>No</td>\n",
       "      <td>No</td>\n",
       "      <td>No</td>\n",
       "      <td>Yes</td>\n",
       "      <td>No</td>\n",
       "      <td>Yes</td>\n",
       "      <td>Yes</td>\n",
       "      <td>No</td>\n",
       "    </tr>\n",
       "    <tr>\n",
       "      <th>89</th>\n",
       "      <td>No</td>\n",
       "      <td>No</td>\n",
       "      <td>No</td>\n",
       "      <td>No</td>\n",
       "      <td>No</td>\n",
       "      <td>Yes</td>\n",
       "      <td>Yes</td>\n",
       "      <td>No</td>\n",
       "      <td>No</td>\n",
       "      <td>No</td>\n",
       "      <td>No</td>\n",
       "    </tr>\n",
       "    <tr>\n",
       "      <th>90</th>\n",
       "      <td>Yes</td>\n",
       "      <td>No</td>\n",
       "      <td>No</td>\n",
       "      <td>No</td>\n",
       "      <td>No</td>\n",
       "      <td>Yes</td>\n",
       "      <td>Yes</td>\n",
       "      <td>No</td>\n",
       "      <td>Yes</td>\n",
       "      <td>No</td>\n",
       "      <td>Yes</td>\n",
       "    </tr>\n",
       "    <tr>\n",
       "      <th>91</th>\n",
       "      <td>Yes</td>\n",
       "      <td>No</td>\n",
       "      <td>No</td>\n",
       "      <td>No</td>\n",
       "      <td>Yes</td>\n",
       "      <td>No</td>\n",
       "      <td>Yes</td>\n",
       "      <td>Yes</td>\n",
       "      <td>Yes</td>\n",
       "      <td>No</td>\n",
       "      <td>No</td>\n",
       "    </tr>\n",
       "  </tbody>\n",
       "</table>\n",
       "<p>92 rows × 11 columns</p>\n",
       "</div>"
      ],
      "text/plain": [
       "   heard_ccm_website heard_ccm_billboard heard_ccm_tv heard_ccm_radio  \\\n",
       "0                 No                  No           No              No   \n",
       "1                Yes                  No           No              No   \n",
       "2                Yes                  No           No              No   \n",
       "3                 No                  No           No              No   \n",
       "4                Yes                 Yes          Yes              No   \n",
       "..               ...                 ...          ...             ...   \n",
       "87                No                  No           No              No   \n",
       "88                No                  No           No              No   \n",
       "89                No                  No           No              No   \n",
       "90               Yes                  No           No              No   \n",
       "91               Yes                  No           No              No   \n",
       "\n",
       "   heard_ccm_social_media heard_ccm_event heard_ccm_family_friend  \\\n",
       "0                      No             Yes                     Yes   \n",
       "1                     Yes              No                     Yes   \n",
       "2                      No              No                      No   \n",
       "3                      No              No                     Yes   \n",
       "4                     Yes             Yes                     Yes   \n",
       "..                    ...             ...                     ...   \n",
       "87                     No              No                     Yes   \n",
       "88                     No              No                     Yes   \n",
       "89                     No             Yes                     Yes   \n",
       "90                     No             Yes                     Yes   \n",
       "91                    Yes              No                     Yes   \n",
       "\n",
       "   heard_ccm_employer heard_ccm_current_student heard_ccm_alumni heard_ccm_hs  \n",
       "0                  No                       Yes              Yes          Yes  \n",
       "1                  No                       Yes               No           No  \n",
       "2                  No                        No               No           No  \n",
       "3                  No                       Yes              Yes          Yes  \n",
       "4                 Yes                       Yes              Yes          Yes  \n",
       "..                ...                       ...              ...          ...  \n",
       "87                 No                        No               No           No  \n",
       "88                 No                       Yes              Yes           No  \n",
       "89                 No                        No               No           No  \n",
       "90                 No                       Yes               No          Yes  \n",
       "91                Yes                       Yes               No           No  \n",
       "\n",
       "[92 rows x 11 columns]"
      ]
     },
     "execution_count": 501,
     "metadata": {},
     "output_type": "execute_result"
    }
   ],
   "source": [
    "# Get rid of columns that are not needed.\n",
    "heard_ccm = df[list(columns)]\n",
    "\n",
    "heard_ccm"
   ]
  },
  {
   "cell_type": "code",
   "execution_count": 502,
   "metadata": {},
   "outputs": [
    {
     "data": {
      "text/plain": [
       "(92, 11)"
      ]
     },
     "execution_count": 502,
     "metadata": {},
     "output_type": "execute_result"
    }
   ],
   "source": [
    "# Finding out the new size of the data frame.\n",
    "heard_ccm.shape"
   ]
  },
  {
   "cell_type": "markdown",
   "metadata": {},
   "source": [
    "We created a new dataframe with the columns we need. This has now shortened our data table to be from all columns to only include the columns that contained the tag `heard_ccm`.\n",
    "\n",
    "Now, we need to go through each of the 11 outreach methods and count how many students from the survey heard about the CCM Computer Science programs from them. I did this by going through the 11 columns that we stored in a list called `columns` and counting how many 'Yes's are present in each column. Then, I appended this value to a new list `count` which will store the count of people that heard about CCM's Computer Science programs from each of the 11 sources."
   ]
  },
  {
   "cell_type": "code",
   "execution_count": 503,
   "metadata": {},
   "outputs": [
    {
     "data": {
      "text/plain": [
       "[np.int64(38),\n",
       " np.int64(8),\n",
       " np.int64(1),\n",
       " np.int64(0),\n",
       " np.int64(26),\n",
       " np.int64(16),\n",
       " np.int64(70),\n",
       " np.int64(16),\n",
       " np.int64(46),\n",
       " np.int64(26),\n",
       " np.int64(56)]"
      ]
     },
     "execution_count": 503,
     "metadata": {},
     "output_type": "execute_result"
    }
   ],
   "source": [
    "# This empty list 'count' will store the count of people that heard about CCM's Computer Science Programs for each factor.\n",
    "count = []\n",
    "\n",
    "# Going through each column and counting how many people put 'Yes' and appending it to count.\n",
    "for c in columns:\n",
    "    count.append((df[c] == 'Yes').sum())\n",
    "\n",
    "count"
   ]
  },
  {
   "cell_type": "markdown",
   "metadata": {},
   "source": [
    "We now have a list of numbers that show how many people heard about our computing programs from. \n",
    "\n",
    "To keep the column names cleaner and easier to read when graphing, I have went ahead and used the string .replace() function to delete the 'heard_ccm_' tag that were in front of the columns that we needed to reference."
   ]
  },
  {
   "cell_type": "code",
   "execution_count": 504,
   "metadata": {},
   "outputs": [
    {
     "data": {
      "text/plain": [
       "Index(['website', 'billboard', 'tv', 'radio', 'social_media', 'event',\n",
       "       'family_friend', 'employer', 'current_student', 'alumni', 'hs'],\n",
       "      dtype='object')"
      ]
     },
     "execution_count": 504,
     "metadata": {},
     "output_type": "execute_result"
    }
   ],
   "source": [
    "# Replace 'heard_ccm_' with '' to delete them from each column name.\n",
    "columns = columns.str.replace('heard_ccm_', '', regex=False)\n",
    "columns"
   ]
  },
  {
   "cell_type": "markdown",
   "metadata": {},
   "source": [
    "I personally find using the names from the columns good for the chart above. However, for others, renaming each one to the full name would be better. I will now rename the columns array to make them look better."
   ]
  },
  {
   "cell_type": "code",
   "execution_count": 505,
   "metadata": {},
   "outputs": [
    {
     "data": {
      "text/plain": [
       "['Website',\n",
       " 'Billboard',\n",
       " 'TV',\n",
       " 'Radio',\n",
       " 'Social Media',\n",
       " 'Event',\n",
       " 'Family Friend',\n",
       " 'Employer',\n",
       " 'Current Student',\n",
       " 'Alumni',\n",
       " 'High School']"
      ]
     },
     "execution_count": 505,
     "metadata": {},
     "output_type": "execute_result"
    }
   ],
   "source": [
    "new_names = {\n",
    "    'family_friend': 'Family Friend',\n",
    "    'hs': 'High School',\n",
    "    'current_student': 'Current Student',\n",
    "    'website': 'Website',\n",
    "    'alumni': 'Alumni',\n",
    "    'social_media': 'Social Media',\n",
    "    'employer': 'Employer',\n",
    "    'event': 'Event',\n",
    "    'billboard': 'Billboard',\n",
    "    'tv': 'TV',\n",
    "    'radio': 'Radio'\n",
    "}\n",
    "\n",
    "# Rename the columns with the dictionary above.\n",
    "columns = [new_names.get(c, c) for c in columns]\n",
    "columns"
   ]
  },
  {
   "cell_type": "markdown",
   "metadata": {},
   "source": [
    "When I first ran the code above and graphed it with the graphing code at the bottom, I wasn't appealed to it. I didn't like how it wasn't sorted and how everything was blue. I wanted to make it easier to see so I added a sort and color system to the graph.\n",
    "\n",
    "I used **ChatGPT** to help me out with the sorting code snippet below."
   ]
  },
  {
   "cell_type": "code",
   "execution_count": 506,
   "metadata": {},
   "outputs": [],
   "source": [
    "# Sort indexes by their argument.\n",
    "sorted_indices = np.argsort(count)\n",
    "# Sort the count data by the new sorted index array.\n",
    "sorted_count = np.array(count)[sorted_indices]\n",
    "# Sort the column name data by the new sorted index array.\n",
    "sorted_columns = np.array(columns)[sorted_indices]\n",
    "\n",
    "# OpenAI. ChatGPT. 2024. OpenAI, https://www.openai.com/chatgpt."
   ]
  },
  {
   "cell_type": "markdown",
   "metadata": {},
   "source": [
    "I was not able to find how you created the color thing in any of your slideshow materials so I used list comprehensions to make my own version. I did this by finding the highest value in the count list, then, go through the entire list and check if the value is equal to the top value I found earlier. If it is, it would make that color green in the color list and if it is not, it would make it gray.\n",
    "\n",
    "This would become the `colors` list that we will use for creating our graph to make it colorful and easier for us to see."
   ]
  },
  {
   "cell_type": "code",
   "execution_count": 507,
   "metadata": {},
   "outputs": [
    {
     "data": {
      "text/plain": [
       "['#E5E5E5',\n",
       " '#E5E5E5',\n",
       " '#E5E5E5',\n",
       " '#E5E5E5',\n",
       " '#E5E5E5',\n",
       " '#E5E5E5',\n",
       " '#E5E5E5',\n",
       " '#E5E5E5',\n",
       " '#E5E5E5',\n",
       " '#E5E5E5',\n",
       " 'green']"
      ]
     },
     "execution_count": 507,
     "metadata": {},
     "output_type": "execute_result"
    }
   ],
   "source": [
    "# Find the highest count value.\n",
    "top = np.argsort(sorted_count)[-1:]\n",
    "# Form a color list with list comprehension and set each color depending on if it is equal to the highest count value.\n",
    "colors = ['green' if i in top else '#E5E5E5' for i in range(len(count))]\n",
    "\n",
    "colors"
   ]
  },
  {
   "cell_type": "markdown",
   "metadata": {},
   "source": [
    "To display the data, I used a horizontal bar chart. This is the best choice as it will display each outreach source on the y axis and show the count on the x axis. I thought about doing a vertical bar graph, but I feel like it would look weird and the text labels may crowd in the bottom. This is why I did a horizontal bar chart.\n",
    "\n",
    "I used the `sorted_columns` for the column data. This is the list of columns with the `heard_ccm_` flag removed and sorted using the algorithm earlier.\n",
    "I used the `sorted_Count` for the count data. This is the list of counts for each of the columns.\n",
    "\n",
    "I added color from the `colors` array as well. This show display the top option in green and the others in gray.\n",
    "\n",
    "I also added a title, x axis label, and y axis label to inform us on what the graph is about and which piece of data is each axis referencing."
   ]
  },
  {
   "cell_type": "code",
   "execution_count": 508,
   "metadata": {},
   "outputs": [
    {
     "data": {
      "text/plain": [
       "Text(0, 0.5, 'Outreach Types')"
      ]
     },
     "execution_count": 508,
     "metadata": {},
     "output_type": "execute_result"
    },
    {
     "data": {
      "image/png": "[encoded data removed]",
      "text/plain": [
       "<Figure size 640x480 with 1 Axes>"
      ]
     },
     "metadata": {},
     "output_type": "display_data"
    }
   ],
   "source": [
    "# Create the horizontal bar chart with the data and add the colors attribute.\n",
    "plt.barh(sorted_columns,sorted_count, color=colors)\n",
    "\n",
    "# Add a title, x-axis label, and y-axis label to inform us of what the graph is about and what pieces of data are being referenced.\n",
    "plt.title(\"Sources for Hearing about CCM's Computer Science Programs\")\n",
    "plt.xlabel(\"Count\")\n",
    "plt.ylabel(\"Outreach Types\")"
   ]
  },
  {
   "cell_type": "markdown",
   "metadata": {},
   "source": [
    "By looking at the data, we can see that a lot of the people found out about CCM's Computer Science programs from a Family Friend. Additionally, the top choices include High School, Current Students, the Website, and Alumni. The Department of Information Technologies can use this data to see how most people know about CCM through connections. For this, the Department of Information Technologies can also spread some time trying to improve the available information about their programs on their website, which is the fourth most popular way of hearing about the programs. Additionally, the Department can go ahead and invest in high school promotions, where they can showcase their development and course content to students as a way of engaging them into CCM.\n",
    "\n",
    "On the other end, this chart also shows that the Radio/TV don't have as much attention from them. The Department of Information Technologies can use this information to maybe not spend as much time using them, but not abandoned them completely as this survey is a sample of students and not all of them."
   ]
  },
  {
   "cell_type": "markdown",
   "metadata": {},
   "source": [
    "\n",
    "### **(3) Student Q.** Which factors most motivate students to attend CCM's Computer Science programs?\n",
    "* For this question, I will need to check out which factors motivated people to attend a CCM Computer Science Program.\n",
    "* Since I need to reference parts of the data that involve where people heard about the programs, I will need to use all of the columns that had the `motivation` tag I added in Part 2 of this Project. "
   ]
  },
  {
   "cell_type": "code",
   "execution_count": 509,
   "metadata": {},
   "outputs": [
    {
     "data": {
      "text/plain": [
       "Index(['motivation_required_class_for_degree', 'motivation_keep_current',\n",
       "       'motivation_career_advancement', 'motivation_career_change',\n",
       "       'motivation_professional_dev', 'motivation_job_displacement',\n",
       "       'motivation_relocation', 'motivation_it_certifications',\n",
       "       'motivation_financial', 'motivation_personal_enrichment',\n",
       "       'motivation_curiosity'],\n",
       "      dtype='object')"
      ]
     },
     "execution_count": 509,
     "metadata": {},
     "output_type": "execute_result"
    }
   ],
   "source": [
    "# Filter to be the columns that had the motivation tag, as those contain the data related to student motivation for attending a CCM Computer Science program.\n",
    "columns = df.filter(like='motivation').columns\n",
    "columns"
   ]
  },
  {
   "cell_type": "markdown",
   "metadata": {},
   "source": [
    "Looking at the output, there are 11 different options that this survey asks students if they have been motivated to attend a CCM Computer Science class by. We will be plotting those 11 data columns and showing the corresponding count of students who are motivated by each factor.\n",
    "\n",
    "I got rid of the other columns that I didn't need for this data analysis. This is any column that didn't have the `motivation_` tag. This is to make it easier for me to see the entire table as the output and only focus on the columns that matter."
   ]
  },
  {
   "cell_type": "code",
   "execution_count": 510,
   "metadata": {},
   "outputs": [
    {
     "data": {
      "text/html": [
       "<div>\n",
       "<style scoped>\n",
       "    .dataframe tbody tr th:only-of-type {\n",
       "        vertical-align: middle;\n",
       "    }\n",
       "\n",
       "    .dataframe tbody tr th {\n",
       "        vertical-align: top;\n",
       "    }\n",
       "\n",
       "    .dataframe thead th {\n",
       "        text-align: right;\n",
       "    }\n",
       "</style>\n",
       "<table border=\"1\" class=\"dataframe\">\n",
       "  <thead>\n",
       "    <tr style=\"text-align: right;\">\n",
       "      <th></th>\n",
       "      <th>motivation_required_class_for_degree</th>\n",
       "      <th>motivation_keep_current</th>\n",
       "      <th>motivation_career_advancement</th>\n",
       "      <th>motivation_career_change</th>\n",
       "      <th>motivation_professional_dev</th>\n",
       "      <th>motivation_job_displacement</th>\n",
       "      <th>motivation_relocation</th>\n",
       "      <th>motivation_it_certifications</th>\n",
       "      <th>motivation_financial</th>\n",
       "      <th>motivation_personal_enrichment</th>\n",
       "      <th>motivation_curiosity</th>\n",
       "    </tr>\n",
       "  </thead>\n",
       "  <tbody>\n",
       "    <tr>\n",
       "      <th>0</th>\n",
       "      <td>No</td>\n",
       "      <td>Yes</td>\n",
       "      <td>Yes</td>\n",
       "      <td>Yes</td>\n",
       "      <td>Yes</td>\n",
       "      <td>No</td>\n",
       "      <td>No</td>\n",
       "      <td>No</td>\n",
       "      <td>Yes</td>\n",
       "      <td>Yes</td>\n",
       "      <td>Yes</td>\n",
       "    </tr>\n",
       "    <tr>\n",
       "      <th>1</th>\n",
       "      <td>Yes</td>\n",
       "      <td>Yes</td>\n",
       "      <td>Yes</td>\n",
       "      <td>No</td>\n",
       "      <td>Yes</td>\n",
       "      <td>Yes</td>\n",
       "      <td>No</td>\n",
       "      <td>No</td>\n",
       "      <td>Yes</td>\n",
       "      <td>Yes</td>\n",
       "      <td>Yes</td>\n",
       "    </tr>\n",
       "    <tr>\n",
       "      <th>2</th>\n",
       "      <td>Yes</td>\n",
       "      <td>Yes</td>\n",
       "      <td>Yes</td>\n",
       "      <td>Yes</td>\n",
       "      <td>Yes</td>\n",
       "      <td>Yes</td>\n",
       "      <td>Yes</td>\n",
       "      <td>No</td>\n",
       "      <td>Yes</td>\n",
       "      <td>No</td>\n",
       "      <td>No</td>\n",
       "    </tr>\n",
       "    <tr>\n",
       "      <th>3</th>\n",
       "      <td>No</td>\n",
       "      <td>Yes</td>\n",
       "      <td>No</td>\n",
       "      <td>No</td>\n",
       "      <td>No</td>\n",
       "      <td>No</td>\n",
       "      <td>No</td>\n",
       "      <td>No</td>\n",
       "      <td>No</td>\n",
       "      <td>No</td>\n",
       "      <td>No</td>\n",
       "    </tr>\n",
       "    <tr>\n",
       "      <th>4</th>\n",
       "      <td>Yes</td>\n",
       "      <td>Yes</td>\n",
       "      <td>Yes</td>\n",
       "      <td>No</td>\n",
       "      <td>Yes</td>\n",
       "      <td>No</td>\n",
       "      <td>No</td>\n",
       "      <td>No</td>\n",
       "      <td>No</td>\n",
       "      <td>Yes</td>\n",
       "      <td>Yes</td>\n",
       "    </tr>\n",
       "    <tr>\n",
       "      <th>...</th>\n",
       "      <td>...</td>\n",
       "      <td>...</td>\n",
       "      <td>...</td>\n",
       "      <td>...</td>\n",
       "      <td>...</td>\n",
       "      <td>...</td>\n",
       "      <td>...</td>\n",
       "      <td>...</td>\n",
       "      <td>...</td>\n",
       "      <td>...</td>\n",
       "      <td>...</td>\n",
       "    </tr>\n",
       "    <tr>\n",
       "      <th>87</th>\n",
       "      <td>Yes</td>\n",
       "      <td>Yes</td>\n",
       "      <td>Yes</td>\n",
       "      <td>Yes</td>\n",
       "      <td>No</td>\n",
       "      <td>No</td>\n",
       "      <td>No</td>\n",
       "      <td>No</td>\n",
       "      <td>No</td>\n",
       "      <td>No</td>\n",
       "      <td>Yes</td>\n",
       "    </tr>\n",
       "    <tr>\n",
       "      <th>88</th>\n",
       "      <td>Yes</td>\n",
       "      <td>Yes</td>\n",
       "      <td>Yes</td>\n",
       "      <td>No</td>\n",
       "      <td>Yes</td>\n",
       "      <td>Yes</td>\n",
       "      <td>No</td>\n",
       "      <td>No</td>\n",
       "      <td>No</td>\n",
       "      <td>Yes</td>\n",
       "      <td>Yes</td>\n",
       "    </tr>\n",
       "    <tr>\n",
       "      <th>89</th>\n",
       "      <td>Yes</td>\n",
       "      <td>No</td>\n",
       "      <td>No</td>\n",
       "      <td>No</td>\n",
       "      <td>Yes</td>\n",
       "      <td>No</td>\n",
       "      <td>No</td>\n",
       "      <td>No</td>\n",
       "      <td>No</td>\n",
       "      <td>No</td>\n",
       "      <td>No</td>\n",
       "    </tr>\n",
       "    <tr>\n",
       "      <th>90</th>\n",
       "      <td>No</td>\n",
       "      <td>Yes</td>\n",
       "      <td>No</td>\n",
       "      <td>No</td>\n",
       "      <td>No</td>\n",
       "      <td>No</td>\n",
       "      <td>No</td>\n",
       "      <td>No</td>\n",
       "      <td>No</td>\n",
       "      <td>No</td>\n",
       "      <td>Yes</td>\n",
       "    </tr>\n",
       "    <tr>\n",
       "      <th>91</th>\n",
       "      <td>Yes</td>\n",
       "      <td>Yes</td>\n",
       "      <td>Yes</td>\n",
       "      <td>No</td>\n",
       "      <td>Yes</td>\n",
       "      <td>No</td>\n",
       "      <td>No</td>\n",
       "      <td>No</td>\n",
       "      <td>No</td>\n",
       "      <td>Yes</td>\n",
       "      <td>Yes</td>\n",
       "    </tr>\n",
       "  </tbody>\n",
       "</table>\n",
       "<p>92 rows × 11 columns</p>\n",
       "</div>"
      ],
      "text/plain": [
       "   motivation_required_class_for_degree motivation_keep_current  \\\n",
       "0                                    No                     Yes   \n",
       "1                                   Yes                     Yes   \n",
       "2                                   Yes                     Yes   \n",
       "3                                    No                     Yes   \n",
       "4                                   Yes                     Yes   \n",
       "..                                  ...                     ...   \n",
       "87                                  Yes                     Yes   \n",
       "88                                  Yes                     Yes   \n",
       "89                                  Yes                      No   \n",
       "90                                   No                     Yes   \n",
       "91                                  Yes                     Yes   \n",
       "\n",
       "   motivation_career_advancement motivation_career_change  \\\n",
       "0                            Yes                      Yes   \n",
       "1                            Yes                       No   \n",
       "2                            Yes                      Yes   \n",
       "3                             No                       No   \n",
       "4                            Yes                       No   \n",
       "..                           ...                      ...   \n",
       "87                           Yes                      Yes   \n",
       "88                           Yes                       No   \n",
       "89                            No                       No   \n",
       "90                            No                       No   \n",
       "91                           Yes                       No   \n",
       "\n",
       "   motivation_professional_dev motivation_job_displacement  \\\n",
       "0                          Yes                          No   \n",
       "1                          Yes                         Yes   \n",
       "2                          Yes                         Yes   \n",
       "3                           No                          No   \n",
       "4                          Yes                          No   \n",
       "..                         ...                         ...   \n",
       "87                          No                          No   \n",
       "88                         Yes                         Yes   \n",
       "89                         Yes                          No   \n",
       "90                          No                          No   \n",
       "91                         Yes                          No   \n",
       "\n",
       "   motivation_relocation motivation_it_certifications motivation_financial  \\\n",
       "0                     No                           No                  Yes   \n",
       "1                     No                           No                  Yes   \n",
       "2                    Yes                           No                  Yes   \n",
       "3                     No                           No                   No   \n",
       "4                     No                           No                   No   \n",
       "..                   ...                          ...                  ...   \n",
       "87                    No                           No                   No   \n",
       "88                    No                           No                   No   \n",
       "89                    No                           No                   No   \n",
       "90                    No                           No                   No   \n",
       "91                    No                           No                   No   \n",
       "\n",
       "   motivation_personal_enrichment motivation_curiosity  \n",
       "0                             Yes                  Yes  \n",
       "1                             Yes                  Yes  \n",
       "2                              No                   No  \n",
       "3                              No                   No  \n",
       "4                             Yes                  Yes  \n",
       "..                            ...                  ...  \n",
       "87                             No                  Yes  \n",
       "88                            Yes                  Yes  \n",
       "89                             No                   No  \n",
       "90                             No                  Yes  \n",
       "91                            Yes                  Yes  \n",
       "\n",
       "[92 rows x 11 columns]"
      ]
     },
     "execution_count": 510,
     "metadata": {},
     "output_type": "execute_result"
    }
   ],
   "source": [
    "# Get rid of columns that are not needed.\n",
    "motives = df[list(columns)]\n",
    "\n",
    "motives"
   ]
  },
  {
   "cell_type": "code",
   "execution_count": 511,
   "metadata": {},
   "outputs": [
    {
     "data": {
      "text/plain": [
       "(92, 11)"
      ]
     },
     "execution_count": 511,
     "metadata": {},
     "output_type": "execute_result"
    }
   ],
   "source": [
    "# Finding out the new size of the data frame.\n",
    "motives.shape"
   ]
  },
  {
   "cell_type": "markdown",
   "metadata": {},
   "source": [
    "We created a new dataframe with only the columns that we need. This has now shortened our data table to be from all columns to only include the columns that contained the tag `heard_ccm`.\n",
    "\n",
    "Now, we need to go through each of the 11 provided motives and count how many students from the survey were motivated by each factor to attend a CCM Computer Science program. I did this by going through the 11 columns that we stored in a list called `columns` and counting how many 'Yes's are present in each column. Then, I appended this value to a new list `count` which will store the count of people that were motived by each factor to attend a CCM Computer Science Program."
   ]
  },
  {
   "cell_type": "code",
   "execution_count": 512,
   "metadata": {},
   "outputs": [
    {
     "data": {
      "text/plain": [
       "[np.int64(82),\n",
       " np.int64(70),\n",
       " np.int64(54),\n",
       " np.int64(18),\n",
       " np.int64(65),\n",
       " np.int64(21),\n",
       " np.int64(9),\n",
       " np.int64(3),\n",
       " np.int64(20),\n",
       " np.int64(48),\n",
       " np.int64(47)]"
      ]
     },
     "execution_count": 512,
     "metadata": {},
     "output_type": "execute_result"
    }
   ],
   "source": [
    "# This empty list 'count' will store the count of people who were motivated by each factor to attend a CCM Computer Science course.\n",
    "count = []\n",
    "\n",
    "# Going through each column and counting how many people put 'Yes' and appending it to count.\n",
    "for c in columns:\n",
    "    count.append((df[c] == 'Yes').sum())\n",
    "\n",
    "count"
   ]
  },
  {
   "cell_type": "markdown",
   "metadata": {},
   "source": [
    "We now have a list of numbers that show how many people are motivated by each factor to attend a CCM Computer Science course.\n",
    "\n",
    "To keep the column names cleaner and easier to read when graphing, I have went ahead and used the string .replace() function to delete the 'motivation_' tag that were in front of the columns that we needed to reference."
   ]
  },
  {
   "cell_type": "code",
   "execution_count": 513,
   "metadata": {},
   "outputs": [
    {
     "data": {
      "text/plain": [
       "Index(['required_class_for_degree', 'keep_current', 'career_advancement',\n",
       "       'career_change', 'professional_dev', 'job_displacement', 'relocation',\n",
       "       'it_certifications', 'financial', 'personal_enrichment', 'curiosity'],\n",
       "      dtype='object')"
      ]
     },
     "execution_count": 513,
     "metadata": {},
     "output_type": "execute_result"
    }
   ],
   "source": [
    "# Replace 'motivation_' with '' to delete them from each column name.\n",
    "columns = columns.str.replace('motivation_', '', regex=False)\n",
    "columns"
   ]
  },
  {
   "cell_type": "markdown",
   "metadata": {},
   "source": [
    "I personally find using the names from the columns good for the chart above. However, for others, renaming each one to the full name would be better. I will now rename the columns array to make them look better."
   ]
  },
  {
   "cell_type": "code",
   "execution_count": 514,
   "metadata": {},
   "outputs": [
    {
     "data": {
      "text/plain": [
       "['Required Class for Degree',\n",
       " 'Keep Current in Computing Skills',\n",
       " 'Career Advancement',\n",
       " 'Career Change',\n",
       " 'Professional Development',\n",
       " 'Job Displacement',\n",
       " 'Relocation',\n",
       " 'IT Certifications',\n",
       " 'Financial',\n",
       " 'Personal Enrichment',\n",
       " 'Curiosity']"
      ]
     },
     "execution_count": 514,
     "metadata": {},
     "output_type": "execute_result"
    }
   ],
   "source": [
    "new_names = {\n",
    "    'required_class_for_degree': 'Required Class for Degree',\n",
    "    'keep_current': 'Keep Current in Computing Skills',\n",
    "    'career_advancement': 'Career Advancement',\n",
    "    'career_change': 'Career Change',\n",
    "    'professional_dev': 'Professional Development',\n",
    "    'job_displacement': 'Job Displacement',\n",
    "    'relocation': 'Relocation',\n",
    "    'it_certifications': 'IT Certifications',\n",
    "    'financial': 'Financial',\n",
    "    'personal_enrichment': 'Personal Enrichment',\n",
    "    'curiosity': 'Curiosity',\n",
    "}\n",
    "\n",
    "# Rename the columns with the dictionary above.\n",
    "columns = [new_names.get(c, c) for c in columns]\n",
    "columns"
   ]
  },
  {
   "cell_type": "markdown",
   "metadata": {},
   "source": [
    "When I first ran the code above and graphed it with the graphing code at the bottom, I wasn't appealed to it. I didn't like how it wasn't sorted and how everything was blue. I wanted to make it easier to see so I added a sort and color system to the graph.\n",
    "\n",
    "I used **ChatGPT** to help me out with the sorting code snippet below."
   ]
  },
  {
   "cell_type": "code",
   "execution_count": 515,
   "metadata": {},
   "outputs": [],
   "source": [
    "# Sort indexes by their argument.\n",
    "sorted_indices = np.argsort(count)\n",
    "# Sort the count data by the new sorted index array.\n",
    "sorted_count = np.array(count)[sorted_indices]\n",
    "# Sort the column name data by the new sorted index array.\n",
    "sorted_columns = np.array(columns)[sorted_indices]\n",
    "\n",
    "# OpenAI. ChatGPT. 2024. OpenAI, https://www.openai.com/chatgpt."
   ]
  },
  {
   "cell_type": "markdown",
   "metadata": {},
   "source": [
    "I was not able to find how you created the color thing in any of your slideshow materials so I used list comprehensions to make my own version. I did this by finding the highest value in the count list, then, go through the entire list and check if the value is equal to the top value I found earlier. If it is, it would make that color green in the color list and if it is not, it would make it gray.\n",
    "\n",
    "This would become the `colors` list that we will use for creating our graph to make it colorful and easier for us to see."
   ]
  },
  {
   "cell_type": "code",
   "execution_count": 516,
   "metadata": {},
   "outputs": [
    {
     "data": {
      "text/plain": [
       "['#E5E5E5',\n",
       " '#E5E5E5',\n",
       " '#E5E5E5',\n",
       " '#E5E5E5',\n",
       " '#E5E5E5',\n",
       " '#E5E5E5',\n",
       " '#E5E5E5',\n",
       " '#E5E5E5',\n",
       " '#E5E5E5',\n",
       " '#E5E5E5',\n",
       " 'green']"
      ]
     },
     "execution_count": 516,
     "metadata": {},
     "output_type": "execute_result"
    }
   ],
   "source": [
    "# Find the highest count value.\n",
    "top = np.argsort(sorted_count)[-1:]\n",
    "# Form a color list with list comprehension and set each color depending on if it is equal to the highest count value.\n",
    "colors = ['green' if i in top else '#E5E5E5' for i in range(len(count))]\n",
    "\n",
    "colors"
   ]
  },
  {
   "cell_type": "markdown",
   "metadata": {},
   "source": [
    "To display the data, I used a horizontal bar chart. This is the best choice as it will display each outreach source on the y axis and show the count on the x axis. I thought about doing a vertical bar graph, but I feel like it would look weird and the text labels may crowd in the bottom. This is why I did a horizontal bar chart.\n",
    "\n",
    "I used the `sorted_columns` for the column data. This is the list of columns with the `motivation_` flag removed and sorted using the algorithm earlier.\n",
    "I used the `sorted_Count` for the count data. This is the list of counts for each of the columns.\n",
    "\n",
    "I added color from the `colors` array as well. This show display the top option in green and the others in gray.\n",
    "\n",
    "I also added a title, x axis label, and y axis label to inform us on what the graph is about and which piece of data is each axis referencing."
   ]
  },
  {
   "cell_type": "code",
   "execution_count": 517,
   "metadata": {},
   "outputs": [
    {
     "data": {
      "text/plain": [
       "Text(0, 0.5, 'Motive')"
      ]
     },
     "execution_count": 517,
     "metadata": {},
     "output_type": "execute_result"
    },
    {
     "data": {
      "image/png": "[encoded data removed]",
      "text/plain": [
       "<Figure size 640x480 with 1 Axes>"
      ]
     },
     "metadata": {},
     "output_type": "display_data"
    }
   ],
   "source": [
    "# Create the horizontal bar chart with the data and add the colors attribute.\n",
    "plt.barh(sorted_columns,sorted_count, color=colors)\n",
    "\n",
    "# Add a title, x-axis label, and y-axis label to inform us of what the graph is about and what pieces of data are being referenced.\n",
    "plt.title(\"Motives for taking CCM Computer Science Classes\")\n",
    "plt.xlabel(\"Count\")\n",
    "plt.ylabel(\"Motive\")"
   ]
  },
  {
   "cell_type": "markdown",
   "metadata": {},
   "source": [
    "In this chart, we can see that a large portion of the motives were that these classes were required for the degree. This makes me very interested in knowing how many said that it was required, so I will be checking them below to see."
   ]
  },
  {
   "cell_type": "code",
   "execution_count": 518,
   "metadata": {},
   "outputs": [
    {
     "data": {
      "text/plain": [
       "(92, 11)"
      ]
     },
     "execution_count": 518,
     "metadata": {},
     "output_type": "execute_result"
    }
   ],
   "source": [
    "# Find the total amount of responses.\n",
    "motives.shape"
   ]
  },
  {
   "cell_type": "code",
   "execution_count": 519,
   "metadata": {},
   "outputs": [
    {
     "data": {
      "text/plain": [
       "np.int64(82)"
      ]
     },
     "execution_count": 519,
     "metadata": {},
     "output_type": "execute_result"
    }
   ],
   "source": [
    "# Find the amount that said that this class was required for their degree.\n",
    "(df[\"motivation_required_class_for_degree\"] == 'Yes').sum()"
   ]
  },
  {
   "cell_type": "markdown",
   "metadata": {},
   "source": [
    "This is a surprising amount, 82/92 of the total students needed the computing class they were in for their degree. I knew that this was going to be high, but I didn't think it would be a large chunk of the responders.\n",
    "\n",
    "Apart from needing these classes for their degree, the top options include students who want to be current in computing skills, professional development, career advancement, and personal enrichment. The Department of Information Technologies can use this information in order to figure out how to best tailor their courses to be more helpful for students by understanding their motives for enrolling in courses in the department. Additionally, if we take that most students needed these courses for their degree, maybe the Department of Information Technologies could figure out how to incorporate more computrer science courses in other degrees, which may allow students to be able to be more involved with technology while in other degrees and increase enrollment. \n",
    "\n",
    "On the other edge, we can see that IT Certificiations are at the bottom, which are tell the Department of Information Technologies two different things: this shows that they are not having any IT certifications for classes and therefore should try to prioritize different ways to implement IT certifications for different careers of students that may need them, which can increase enrollment; this shows that IT certifications are not on many students minds and maybe don't necessary appeal to them, so we shouldn't focus on them as much and dedicate some of the resources for IT Certifications to other programs that may interest students. This decision process would have to be supported by other pieces of data that the chairperson may have available, but this data may hint that this is something that the chairperson would need to take into account for the future to boost enrollment."
   ]
  },
  {
   "cell_type": "markdown",
   "metadata": {},
   "source": [
    "### **(4) Student Q.** Which previous computing experiences have had the highest impact for students to enroll?\n",
    "* For this question, I will need to check which activities had the highest impact for student enrollment.\n",
    "* Since I need to reference parts of the data that involve where people heard about the programs, I will need to use all of the columns that had the `extent_impact` tag I added in Part 2 of this Project. "
   ]
  },
  {
   "cell_type": "code",
   "execution_count": 520,
   "metadata": {},
   "outputs": [
    {
     "data": {
      "text/plain": [
       "Index(['extent_impact_hs_computing_class', 'extent_impact_hs_computing_club',\n",
       "       'extent_impact_computing_competitions',\n",
       "       'extent_impact_afterschool_computing_camp',\n",
       "       'extent_impact_summer_computing_camp',\n",
       "       'extent_impact_ap_computing_class',\n",
       "       'extent_impact_dual_enrollment_computing_class',\n",
       "       'extent_impact_family_or_friend_influence',\n",
       "       'extent_impact_family_working_in_computing',\n",
       "       'extent_impact_hs_teacher_guidance',\n",
       "       'extent_impact_employer_influence'],\n",
       "      dtype='object')"
      ]
     },
     "execution_count": 520,
     "metadata": {},
     "output_type": "execute_result"
    }
   ],
   "source": [
    "# Filter to be the columns that had the extent_impact tag, as those contain the data related to the previous experiences a student had experienced and how that impacted student enrollment.\n",
    "columns = df.filter(like='extent_impact').columns\n",
    "columns"
   ]
  },
  {
   "cell_type": "markdown",
   "metadata": {},
   "source": [
    "Looking at the output, there are 11 different options that this survey asks students if the previous activity has impacted their enrollment decision. We will be plotting those 11 data columns and showing the corresponding count of students who are impacted by each experience.\n",
    "\n",
    "I got rid of the other columns that I didn't need for this data analysis. This is any column that didn't have the `extent_impact_` tag. This is to make it easier for me to see the entire table as the output and only focus on the columns that matter."
   ]
  },
  {
   "cell_type": "code",
   "execution_count": 521,
   "metadata": {},
   "outputs": [
    {
     "data": {
      "text/html": [
       "<div>\n",
       "<style scoped>\n",
       "    .dataframe tbody tr th:only-of-type {\n",
       "        vertical-align: middle;\n",
       "    }\n",
       "\n",
       "    .dataframe tbody tr th {\n",
       "        vertical-align: top;\n",
       "    }\n",
       "\n",
       "    .dataframe thead th {\n",
       "        text-align: right;\n",
       "    }\n",
       "</style>\n",
       "<table border=\"1\" class=\"dataframe\">\n",
       "  <thead>\n",
       "    <tr style=\"text-align: right;\">\n",
       "      <th></th>\n",
       "      <th>extent_impact_hs_computing_class</th>\n",
       "      <th>extent_impact_hs_computing_club</th>\n",
       "      <th>extent_impact_computing_competitions</th>\n",
       "      <th>extent_impact_afterschool_computing_camp</th>\n",
       "      <th>extent_impact_summer_computing_camp</th>\n",
       "      <th>extent_impact_ap_computing_class</th>\n",
       "      <th>extent_impact_dual_enrollment_computing_class</th>\n",
       "      <th>extent_impact_family_or_friend_influence</th>\n",
       "      <th>extent_impact_family_working_in_computing</th>\n",
       "      <th>extent_impact_hs_teacher_guidance</th>\n",
       "      <th>extent_impact_employer_influence</th>\n",
       "    </tr>\n",
       "  </thead>\n",
       "  <tbody>\n",
       "    <tr>\n",
       "      <th>0</th>\n",
       "      <td>No Impact</td>\n",
       "      <td>No Impact</td>\n",
       "      <td>High Impact</td>\n",
       "      <td>NaN</td>\n",
       "      <td>NaN</td>\n",
       "      <td>NaN</td>\n",
       "      <td>NaN</td>\n",
       "      <td>Some Impact</td>\n",
       "      <td>NaN</td>\n",
       "      <td>High Impact</td>\n",
       "      <td>NaN</td>\n",
       "    </tr>\n",
       "    <tr>\n",
       "      <th>1</th>\n",
       "      <td>Some Impact</td>\n",
       "      <td>Some Impact</td>\n",
       "      <td>Some Impact</td>\n",
       "      <td>Some Impact</td>\n",
       "      <td>Some Impact</td>\n",
       "      <td>Some Impact</td>\n",
       "      <td>Some Impact</td>\n",
       "      <td>Some Impact</td>\n",
       "      <td>Some Impact</td>\n",
       "      <td>Some Impact</td>\n",
       "      <td>Some Impact</td>\n",
       "    </tr>\n",
       "    <tr>\n",
       "      <th>2</th>\n",
       "      <td>NaN</td>\n",
       "      <td>NaN</td>\n",
       "      <td>No Impact</td>\n",
       "      <td>NaN</td>\n",
       "      <td>NaN</td>\n",
       "      <td>NaN</td>\n",
       "      <td>NaN</td>\n",
       "      <td>NaN</td>\n",
       "      <td>NaN</td>\n",
       "      <td>NaN</td>\n",
       "      <td>NaN</td>\n",
       "    </tr>\n",
       "    <tr>\n",
       "      <th>3</th>\n",
       "      <td>No Impact</td>\n",
       "      <td>No Impact</td>\n",
       "      <td>No Impact</td>\n",
       "      <td>No Impact</td>\n",
       "      <td>No Impact</td>\n",
       "      <td>No Impact</td>\n",
       "      <td>No Impact</td>\n",
       "      <td>No Impact</td>\n",
       "      <td>No Impact</td>\n",
       "      <td>No Impact</td>\n",
       "      <td>No Impact</td>\n",
       "    </tr>\n",
       "    <tr>\n",
       "      <th>4</th>\n",
       "      <td>Some Impact</td>\n",
       "      <td>No Impact</td>\n",
       "      <td>NaN</td>\n",
       "      <td>NaN</td>\n",
       "      <td>NaN</td>\n",
       "      <td>NaN</td>\n",
       "      <td>NaN</td>\n",
       "      <td>Some Impact</td>\n",
       "      <td>NaN</td>\n",
       "      <td>NaN</td>\n",
       "      <td>Some Impact</td>\n",
       "    </tr>\n",
       "    <tr>\n",
       "      <th>...</th>\n",
       "      <td>...</td>\n",
       "      <td>...</td>\n",
       "      <td>...</td>\n",
       "      <td>...</td>\n",
       "      <td>...</td>\n",
       "      <td>...</td>\n",
       "      <td>...</td>\n",
       "      <td>...</td>\n",
       "      <td>...</td>\n",
       "      <td>...</td>\n",
       "      <td>...</td>\n",
       "    </tr>\n",
       "    <tr>\n",
       "      <th>87</th>\n",
       "      <td>Some Impact</td>\n",
       "      <td>Some Impact</td>\n",
       "      <td>No Impact</td>\n",
       "      <td>No Impact</td>\n",
       "      <td>Some Impact</td>\n",
       "      <td>Some Impact</td>\n",
       "      <td>High Impact</td>\n",
       "      <td>Some Impact</td>\n",
       "      <td>Some Impact</td>\n",
       "      <td>High Impact</td>\n",
       "      <td>No Impact</td>\n",
       "    </tr>\n",
       "    <tr>\n",
       "      <th>88</th>\n",
       "      <td>No Impact</td>\n",
       "      <td>Some Impact</td>\n",
       "      <td>No Impact</td>\n",
       "      <td>No Impact</td>\n",
       "      <td>No Impact</td>\n",
       "      <td>No Impact</td>\n",
       "      <td>No Impact</td>\n",
       "      <td>Some Impact</td>\n",
       "      <td>Some Impact</td>\n",
       "      <td>Some Impact</td>\n",
       "      <td>Some Impact</td>\n",
       "    </tr>\n",
       "    <tr>\n",
       "      <th>89</th>\n",
       "      <td>No Impact</td>\n",
       "      <td>No Impact</td>\n",
       "      <td>No Impact</td>\n",
       "      <td>No Impact</td>\n",
       "      <td>No Impact</td>\n",
       "      <td>No Impact</td>\n",
       "      <td>No Impact</td>\n",
       "      <td>No Impact</td>\n",
       "      <td>No Impact</td>\n",
       "      <td>No Impact</td>\n",
       "      <td>No Impact</td>\n",
       "    </tr>\n",
       "    <tr>\n",
       "      <th>90</th>\n",
       "      <td>High Impact</td>\n",
       "      <td>Some Impact</td>\n",
       "      <td>Some Impact</td>\n",
       "      <td>No Impact</td>\n",
       "      <td>No Impact</td>\n",
       "      <td>No Impact</td>\n",
       "      <td>No Impact</td>\n",
       "      <td>Some Impact</td>\n",
       "      <td>No Impact</td>\n",
       "      <td>No Impact</td>\n",
       "      <td>No Impact</td>\n",
       "    </tr>\n",
       "    <tr>\n",
       "      <th>91</th>\n",
       "      <td>Some Impact</td>\n",
       "      <td>Some Impact</td>\n",
       "      <td>No Impact</td>\n",
       "      <td>No Impact</td>\n",
       "      <td>No Impact</td>\n",
       "      <td>No Impact</td>\n",
       "      <td>No Impact</td>\n",
       "      <td>No Impact</td>\n",
       "      <td>No Impact</td>\n",
       "      <td>No Impact</td>\n",
       "      <td>No Impact</td>\n",
       "    </tr>\n",
       "  </tbody>\n",
       "</table>\n",
       "<p>92 rows × 11 columns</p>\n",
       "</div>"
      ],
      "text/plain": [
       "   extent_impact_hs_computing_class extent_impact_hs_computing_club  \\\n",
       "0                         No Impact                       No Impact   \n",
       "1                       Some Impact                     Some Impact   \n",
       "2                               NaN                             NaN   \n",
       "3                         No Impact                       No Impact   \n",
       "4                       Some Impact                       No Impact   \n",
       "..                              ...                             ...   \n",
       "87                      Some Impact                     Some Impact   \n",
       "88                        No Impact                     Some Impact   \n",
       "89                        No Impact                       No Impact   \n",
       "90                      High Impact                     Some Impact   \n",
       "91                      Some Impact                     Some Impact   \n",
       "\n",
       "   extent_impact_computing_competitions  \\\n",
       "0                           High Impact   \n",
       "1                           Some Impact   \n",
       "2                             No Impact   \n",
       "3                             No Impact   \n",
       "4                                   NaN   \n",
       "..                                  ...   \n",
       "87                            No Impact   \n",
       "88                            No Impact   \n",
       "89                            No Impact   \n",
       "90                          Some Impact   \n",
       "91                            No Impact   \n",
       "\n",
       "   extent_impact_afterschool_computing_camp  \\\n",
       "0                                       NaN   \n",
       "1                               Some Impact   \n",
       "2                                       NaN   \n",
       "3                                 No Impact   \n",
       "4                                       NaN   \n",
       "..                                      ...   \n",
       "87                                No Impact   \n",
       "88                                No Impact   \n",
       "89                                No Impact   \n",
       "90                                No Impact   \n",
       "91                                No Impact   \n",
       "\n",
       "   extent_impact_summer_computing_camp extent_impact_ap_computing_class  \\\n",
       "0                                  NaN                              NaN   \n",
       "1                          Some Impact                      Some Impact   \n",
       "2                                  NaN                              NaN   \n",
       "3                            No Impact                        No Impact   \n",
       "4                                  NaN                              NaN   \n",
       "..                                 ...                              ...   \n",
       "87                         Some Impact                      Some Impact   \n",
       "88                           No Impact                        No Impact   \n",
       "89                           No Impact                        No Impact   \n",
       "90                           No Impact                        No Impact   \n",
       "91                           No Impact                        No Impact   \n",
       "\n",
       "   extent_impact_dual_enrollment_computing_class  \\\n",
       "0                                            NaN   \n",
       "1                                    Some Impact   \n",
       "2                                            NaN   \n",
       "3                                      No Impact   \n",
       "4                                            NaN   \n",
       "..                                           ...   \n",
       "87                                   High Impact   \n",
       "88                                     No Impact   \n",
       "89                                     No Impact   \n",
       "90                                     No Impact   \n",
       "91                                     No Impact   \n",
       "\n",
       "   extent_impact_family_or_friend_influence  \\\n",
       "0                               Some Impact   \n",
       "1                               Some Impact   \n",
       "2                                       NaN   \n",
       "3                                 No Impact   \n",
       "4                               Some Impact   \n",
       "..                                      ...   \n",
       "87                              Some Impact   \n",
       "88                              Some Impact   \n",
       "89                                No Impact   \n",
       "90                              Some Impact   \n",
       "91                                No Impact   \n",
       "\n",
       "   extent_impact_family_working_in_computing  \\\n",
       "0                                        NaN   \n",
       "1                                Some Impact   \n",
       "2                                        NaN   \n",
       "3                                  No Impact   \n",
       "4                                        NaN   \n",
       "..                                       ...   \n",
       "87                               Some Impact   \n",
       "88                               Some Impact   \n",
       "89                                 No Impact   \n",
       "90                                 No Impact   \n",
       "91                                 No Impact   \n",
       "\n",
       "   extent_impact_hs_teacher_guidance extent_impact_employer_influence  \n",
       "0                        High Impact                              NaN  \n",
       "1                        Some Impact                      Some Impact  \n",
       "2                                NaN                              NaN  \n",
       "3                          No Impact                        No Impact  \n",
       "4                                NaN                      Some Impact  \n",
       "..                               ...                              ...  \n",
       "87                       High Impact                        No Impact  \n",
       "88                       Some Impact                      Some Impact  \n",
       "89                         No Impact                        No Impact  \n",
       "90                         No Impact                        No Impact  \n",
       "91                         No Impact                        No Impact  \n",
       "\n",
       "[92 rows x 11 columns]"
      ]
     },
     "execution_count": 521,
     "metadata": {},
     "output_type": "execute_result"
    }
   ],
   "source": [
    "# Get rid of columns that are not needed.\n",
    "extent_impacts = df[list(columns)]\n",
    "\n",
    "extent_impacts"
   ]
  },
  {
   "cell_type": "markdown",
   "metadata": {},
   "source": [
    "# Finding out the new size of the data frame.\n",
    "extent_impacts.shape"
   ]
  },
  {
   "cell_type": "markdown",
   "metadata": {},
   "source": [
    "We created a new dataframe with only the columns that we need. This has now shortened our data table to be from all columns to only include the columns that contained the tag `extent_impact`.\n",
    "\n",
    "Now, we need to go through each of the 11 provided activities and count how many students from the survey were highly impacted by them to attend a CCM Computer Science program. I did this by going through the 11 columns that we stored in a list called `columns` and counting how many 'High Impact's are present in each column. Then, I appended this value to a new list `count` which will store the count of people that were impacted by each activity to attend a CCM Computer Science Program."
   ]
  },
  {
   "cell_type": "code",
   "execution_count": 522,
   "metadata": {},
   "outputs": [
    {
     "data": {
      "text/plain": [
       "[np.int64(8),\n",
       " np.int64(2),\n",
       " np.int64(5),\n",
       " np.int64(3),\n",
       " np.int64(1),\n",
       " np.int64(1),\n",
       " np.int64(1),\n",
       " np.int64(12),\n",
       " np.int64(6),\n",
       " np.int64(6),\n",
       " np.int64(10)]"
      ]
     },
     "execution_count": 522,
     "metadata": {},
     "output_type": "execute_result"
    }
   ],
   "source": [
    "# This empty list 'count' will store the count of people who were impacted by each activity to attend a CCM Computer Science course.\n",
    "count = []\n",
    "\n",
    "# Going through each column and counting how many people put 'High Impact' and appending it to count.\n",
    "for c in columns:\n",
    "    count.append((df[c] == 'High Impact').sum())\n",
    "\n",
    "count"
   ]
  },
  {
   "cell_type": "markdown",
   "metadata": {},
   "source": [
    "We now have a list of numbers that show how many people are impacted by each previous activity to attend a CCM Computer Science course.\n",
    "\n",
    "To keep the column names cleaner and easier to read when graphing, I have went ahead and used the string .replace() function to delete the 'extent_impact_' tag that were in front of the columns that we needed to reference."
   ]
  },
  {
   "cell_type": "code",
   "execution_count": 523,
   "metadata": {},
   "outputs": [
    {
     "data": {
      "text/plain": [
       "Index(['hs_computing_class', 'hs_computing_club', 'computing_competitions',\n",
       "       'afterschool_computing_camp', 'summer_computing_camp',\n",
       "       'ap_computing_class', 'dual_enrollment_computing_class',\n",
       "       'family_or_friend_influence', 'family_working_in_computing',\n",
       "       'hs_teacher_guidance', 'employer_influence'],\n",
       "      dtype='object')"
      ]
     },
     "execution_count": 523,
     "metadata": {},
     "output_type": "execute_result"
    }
   ],
   "source": [
    "# Replace 'extent_impact_' with '' to delete them from each column name.\n",
    "columns = columns.str.replace('extent_impact_', '', regex=False)\n",
    "columns"
   ]
  },
  {
   "cell_type": "markdown",
   "metadata": {},
   "source": [
    "I personally find using the names from the columns good for the chart above. However, for others, renaming each one to the full name would be better. I will now rename the columns array to make them look better."
   ]
  },
  {
   "cell_type": "code",
   "execution_count": 524,
   "metadata": {},
   "outputs": [
    {
     "data": {
      "text/plain": [
       "['High School Computing Class',\n",
       " 'High School Computing Club',\n",
       " 'Computing Competitions',\n",
       " 'After School Computing Camp',\n",
       " 'Summer Computing Camp',\n",
       " 'AP Computing Class',\n",
       " 'Dual Enrollment Computing Class',\n",
       " 'Family or Friend Influence',\n",
       " 'Family Working in Computing',\n",
       " 'High School Teacher or Counselor',\n",
       " 'Employer Influence']"
      ]
     },
     "execution_count": 524,
     "metadata": {},
     "output_type": "execute_result"
    }
   ],
   "source": [
    "new_names = {\n",
    "    'hs_computing_class': 'High School Computing Class',\n",
    "    'hs_computing_club': 'High School Computing Club',\n",
    "    'computing_competitions': 'Computing Competitions',\n",
    "    'afterschool_computing_camp': 'After School Computing Camp',\n",
    "    'summer_computing_camp': 'Summer Computing Camp',\n",
    "    'ap_computing_class': 'AP Computing Class',\n",
    "    'dual_enrollment_computing_class': 'Dual Enrollment Computing Class',\n",
    "    'family_or_friend_influence': 'Family or Friend Influence',\n",
    "    'family_working_in_computing': 'Family Working in Computing',\n",
    "    'hs_teacher_guidance': 'High School Teacher or Counselor',\n",
    "    'employer_influence': 'Employer Influence',\n",
    "}\n",
    "\n",
    "# Rename the columns with the dictionary above.\n",
    "columns = [new_names.get(c, c) for c in columns]\n",
    "columns"
   ]
  },
  {
   "cell_type": "markdown",
   "metadata": {},
   "source": [
    "When I first ran the code above and graphed it with the graphing code at the bottom, I wasn't appealed to it. I didn't like how it wasn't sorted and how everything was blue. I wanted to make it easier to see so I added a sort and color system to the graph.\n",
    "\n",
    "I used **ChatGPT** to help me out with the sorting code snippet below."
   ]
  },
  {
   "cell_type": "code",
   "execution_count": 525,
   "metadata": {},
   "outputs": [],
   "source": [
    "# Sort indexes by their argument.\n",
    "sorted_indices = np.argsort(count)\n",
    "# Sort the count data by the new sorted index array.\n",
    "sorted_count = np.array(count)[sorted_indices]\n",
    "# Sort the column name data by the new sorted index array.\n",
    "sorted_columns = np.array(columns)[sorted_indices]\n",
    "\n",
    "# OpenAI. ChatGPT. 2024. OpenAI, https://www.openai.com/chatgpt."
   ]
  },
  {
   "cell_type": "markdown",
   "metadata": {},
   "source": [
    "I was not able to find how you created the color thing in any of your slideshow materials so I used list comprehensions to make my own version. I did this by finding the highest value in the count list, then, go through the entire list and check if the value is equal to the top value I found earlier. If it is, it would make that color green in the color list and if it is not, it would make it gray.\n",
    "\n",
    "This would become the `colors` list that we will use for creating our graph to make it colorful and easier for us to see."
   ]
  },
  {
   "cell_type": "code",
   "execution_count": 526,
   "metadata": {},
   "outputs": [
    {
     "data": {
      "text/plain": [
       "['#E5E5E5',\n",
       " '#E5E5E5',\n",
       " '#E5E5E5',\n",
       " '#E5E5E5',\n",
       " '#E5E5E5',\n",
       " '#E5E5E5',\n",
       " '#E5E5E5',\n",
       " '#E5E5E5',\n",
       " '#E5E5E5',\n",
       " '#E5E5E5',\n",
       " 'green']"
      ]
     },
     "execution_count": 526,
     "metadata": {},
     "output_type": "execute_result"
    }
   ],
   "source": [
    "# Find the highest count value.\n",
    "top = np.argsort(sorted_count)[-1:]\n",
    "# Form a color list with list comprehension and set each color depending on if it is equal to the highest count value.\n",
    "colors = ['green' if i in top else '#E5E5E5' for i in range(len(count))]\n",
    "\n",
    "colors"
   ]
  },
  {
   "cell_type": "markdown",
   "metadata": {},
   "source": [
    "To display the data, I used a horizontal bar chart. This is the best choice as it will display each activity on the y axis and show the count on the x axis. I thought about doing a vertical bar graph, but I feel like it would look weird and the text labels may crowd in the bottom. This is why I did a horizontal bar chart.\n",
    "\n",
    "I used the `sorted_columns` for the column data. This is the list of columns with the `extent_impact_` flag removed and sorted using the algorithm earlier.\n",
    "I used the `sorted_Count` for the count data. This is the list of counts for each of the columns.\n",
    "\n",
    "I added color from the `colors` array as well. This show display the top option in green and the others in gray.\n",
    "\n",
    "I also added a title, x axis label, and y axis label to inform us on what the graph is about and which piece of data is each axis referencing."
   ]
  },
  {
   "cell_type": "code",
   "execution_count": 527,
   "metadata": {},
   "outputs": [
    {
     "data": {
      "text/plain": [
       "Text(0, 0.5, 'Previous Computing Activity')"
      ]
     },
     "execution_count": 527,
     "metadata": {},
     "output_type": "execute_result"
    },
    {
     "data": {
      "image/png": "[encoded data removed]",
      "text/plain": [
       "<Figure size 640x480 with 1 Axes>"
      ]
     },
     "metadata": {},
     "output_type": "display_data"
    }
   ],
   "source": [
    "# Create the horizontal bar chart with the data and add the colors attribute.\n",
    "plt.barh(sorted_columns,sorted_count, color=colors)\n",
    "\n",
    "# Add a title, x-axis label, and y-axis label to inform us of what the graph is about and what pieces of data are being referenced.\n",
    "plt.title(\"High Impact of Previous Computing Activities for Enrollment\")\n",
    "plt.xlabel(\"Count\")\n",
    "plt.ylabel(\"Previous Computing Activity\")"
   ]
  },
  {
   "cell_type": "markdown",
   "metadata": {},
   "source": [
    "In this chart, we can confirm our data displayed in the chart from question #2, where we see family and friend influence at the very top. Also at the top are those that involve word of mouth communication, such as employers and high school teachers. We also see how high school computing classes are the third top option and family members working in computing are the fourth top option. The Department of Information Technologies can use this information in order to, for example, partner up with high schools to create a day's worth of interactive, college-level curriculum that can gets students interested in computer science programs. There are many different ways the chairperson can use this data, but it all goes to show that a lot of the college's enrollment is influenced by the community spreading word out to others. Nevertheless, the department can still use the other information, like I said with High School Computing Class, to take advantage of those who were influenced by High School curriculum.\n",
    "\n",
    "However, this graph only shows 'High Impact', which may not be accurate to fully answer this question. I would also like to confirm this by checking out the 'Some Impact' as its own graph and then a final graph combining both impacts to see if there is a trend between them."
   ]
  },
  {
   "cell_type": "code",
   "execution_count": 528,
   "metadata": {},
   "outputs": [
    {
     "data": {
      "text/plain": [
       "Text(0, 0.5, 'Previous Computing Activity')"
      ]
     },
     "execution_count": 528,
     "metadata": {},
     "output_type": "execute_result"
    },
    {
     "data": {
      "image/png": "[encoded data removed]",
      "text/plain": [
       "<Figure size 640x480 with 1 Axes>"
      ]
     },
     "metadata": {},
     "output_type": "display_data"
    }
   ],
   "source": [
    "# Filter to be the columns that had the extent_impact tag, as those contain the data related to the previous experiences a student had experienced and how that impacted student enrollment.\n",
    "columns = df.filter(like='extent_impact').columns\n",
    "columns\n",
    "\n",
    "# Get rid of columns that are not needed.\n",
    "extent_impacts = df[list(columns)]\n",
    "\n",
    "extent_impacts\n",
    "\n",
    "# This empty list 'count' will store the count of people who were impacted by each activity to attend a CCM Computer Science course.\n",
    "count = []\n",
    "\n",
    "# Going through each column and counting how many people put 'High Impact' and appending it to count.\n",
    "for c in columns:\n",
    "    count.append((df[c] == 'Some Impact').sum())\n",
    "\n",
    "count\n",
    "\n",
    "# Replace 'extent_impact_' with '' to delete them from each column name.\n",
    "columns = columns.str.replace('extent_impact_', '', regex=False)\n",
    "columns\n",
    "\n",
    "new_names = {\n",
    "    'hs_computing_class': 'High School Computing Class',\n",
    "    'hs_computing_club': 'High School Computing Club',\n",
    "    'computing_competitions': 'Computing Competitions',\n",
    "    'afterschool_computing_camp': 'After School Computing Camp',\n",
    "    'summer_computing_camp': 'Summer Computing Camp',\n",
    "    'ap_computing_class': 'AP Computing Class',\n",
    "    'dual_enrollment_computing_class': 'Dual Enrollment Computing Class',\n",
    "    'family_or_friend_influence': 'Family or Friend Influence',\n",
    "    'family_working_in_computing': 'Family Working in Computing',\n",
    "    'hs_teacher_guidance': 'High School Teacher or Counselor',\n",
    "    'employer_influence': 'Employer Influence',\n",
    "}\n",
    "\n",
    "# Rename the columns with the dictionary above.\n",
    "columns = [new_names.get(c, c) for c in columns]\n",
    "columns\n",
    "\n",
    "# Sort indexes by their argument.\n",
    "sorted_indices = np.argsort(count)\n",
    "# Sort the count data by the new sorted index array.\n",
    "sorted_count = np.array(count)[sorted_indices]\n",
    "# Sort the column name data by the new sorted index array.\n",
    "sorted_columns = np.array(columns)[sorted_indices]\n",
    "\n",
    "# OpenAI. ChatGPT. 2024. OpenAI, https://www.openai.com/chatgpt.\n",
    "\n",
    "# Find the highest count value.\n",
    "top = np.argsort(sorted_count)[-1:]\n",
    "# Form a color list with list comprehension and set each color depending on if it is equal to the highest count value.\n",
    "colors = ['green' if i in top else '#E5E5E5' for i in range(len(count))]\n",
    "\n",
    "colors\n",
    "\n",
    "# Create the horizontal bar chart with the data and add the colors attribute.\n",
    "plt.barh(sorted_columns,sorted_count, color=colors)\n",
    "\n",
    "# Add a title, x-axis label, and y-axis label to inform us of what the graph is about and what pieces of data are being referenced.\n",
    "plt.title(\"High Impact of Previous Computing Activities for Enrollment\")\n",
    "plt.xlabel(\"Count\")\n",
    "plt.ylabel(\"Previous Computing Activity\")"
   ]
  },
  {
   "cell_type": "markdown",
   "metadata": {},
   "source": [
    "This graph, with just the 'Some Impact' confirms the 'High Impact' graph by showcasing how influence from the community like family, friends, employers, and teachers have a big impact on a student's decision to attend a Computer Science program at CCM. I will now combine the data from this chart and the previous chart so we can see a combined chart of these activities and the total count that have had some impact and high impact."
   ]
  },
  {
   "cell_type": "code",
   "execution_count": 529,
   "metadata": {},
   "outputs": [
    {
     "data": {
      "text/plain": [
       "Text(0, 0.5, 'Previous Computing Activity')"
      ]
     },
     "execution_count": 529,
     "metadata": {},
     "output_type": "execute_result"
    },
    {
     "data": {
      "image/png": "[encoded data removed]",
      "text/plain": [
       "<Figure size 640x480 with 1 Axes>"
      ]
     },
     "metadata": {},
     "output_type": "display_data"
    }
   ],
   "source": [
    "# Filter to be the columns that had the extent_impact tag, as those contain the data related to the previous experiences a student had experienced and how that impacted student enrollment.\n",
    "columns = df.filter(like='extent_impact').columns\n",
    "columns\n",
    "\n",
    "# Get rid of columns that are not needed.\n",
    "extent_impacts = df[list(columns)]\n",
    "\n",
    "extent_impacts\n",
    "\n",
    "# This empty list 'count' will store the count of people who were impacted by each activity to attend a CCM Computer Science course.\n",
    "count = []\n",
    "\n",
    "# Going through each column and counting how many people put 'High Impact' and appending it to count.\n",
    "for c in columns:\n",
    "    count.append((df[c] == 'High Impact').sum() + (df[c] == 'Some Impact').sum())\n",
    "\n",
    "count\n",
    "\n",
    "# Replace 'extent_impact_' with '' to delete them from each column name.\n",
    "columns = columns.str.replace('extent_impact_', '', regex=False)\n",
    "columns\n",
    "\n",
    "new_names = {\n",
    "    'hs_computing_class': 'High School Computing Class',\n",
    "    'hs_computing_club': 'High School Computing Club',\n",
    "    'computing_competitions': 'Computing Competitions',\n",
    "    'afterschool_computing_camp': 'After School Computing Camp',\n",
    "    'summer_computing_camp': 'Summer Computing Camp',\n",
    "    'ap_computing_class': 'AP Computing Class',\n",
    "    'dual_enrollment_computing_class': 'Dual Enrollment Computing Class',\n",
    "    'family_or_friend_influence': 'Family or Friend Influence',\n",
    "    'family_working_in_computing': 'Family Working in Computing',\n",
    "    'hs_teacher_guidance': 'High School Teacher or Counselor',\n",
    "    'employer_influence': 'Employer Influence',\n",
    "}\n",
    "\n",
    "# Rename the columns with the dictionary above.\n",
    "columns = [new_names.get(c, c) for c in columns]\n",
    "columns\n",
    "\n",
    "# Sort indexes by their argument.\n",
    "sorted_indices = np.argsort(count)\n",
    "# Sort the count data by the new sorted index array.\n",
    "sorted_count = np.array(count)[sorted_indices]\n",
    "# Sort the column name data by the new sorted index array.\n",
    "sorted_columns = np.array(columns)[sorted_indices]\n",
    "\n",
    "# OpenAI. ChatGPT. 2024. OpenAI, https://www.openai.com/chatgpt.\n",
    "\n",
    "# Find the highest count value.\n",
    "top = np.argsort(sorted_count)[-1:]\n",
    "# Form a color list with list comprehension and set each color depending on if it is equal to the highest count value.\n",
    "colors = ['green' if i in top else '#E5E5E5' for i in range(len(count))]\n",
    "\n",
    "colors\n",
    "\n",
    "# Create the horizontal bar chart with the data and add the colors attribute.\n",
    "plt.barh(sorted_columns,sorted_count, color=colors)\n",
    "\n",
    "# Add a title, x-axis label, and y-axis label to inform us of what the graph is about and what pieces of data are being referenced.\n",
    "plt.title(\"High Impact of Previous Computing Activities for Enrollment\")\n",
    "plt.xlabel(\"Count\")\n",
    "plt.ylabel(\"Previous Computing Activity\")"
   ]
  },
  {
   "cell_type": "markdown",
   "metadata": {},
   "source": [
    "This chart, like the others, are once again very similar to them, meaning that the original hypothesis from the 'High Impact' chart, is confirmed by these other charts that involve other pieces of data. Although it was very likely to be similar, it is important that we check just to confirm our ideas and take into account other data asked by the questions."
   ]
  }
 ],
 "metadata": {
  "kernelspec": {
   "display_name": "Python 3",
   "language": "python",
   "name": "python3"
  },
  "language_info": {
   "codemirror_mode": {
    "name": "ipython",
    "version": 3
   },
   "file_extension": ".py",
   "mimetype": "text/x-python",
   "name": "python",
   "nbconvert_exporter": "python",
   "pygments_lexer": "ipython3",
   "version": "3.11.9"
  }
 },
 "nbformat": 4,
 "nbformat_minor": 2
}
